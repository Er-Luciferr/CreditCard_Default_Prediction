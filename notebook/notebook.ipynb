{
 "cells": [
  {
   "cell_type": "markdown",
   "metadata": {},
   "source": [
    "# Importing dependencies\n"
   ]
  },
  {
   "cell_type": "code",
   "execution_count": 6,
   "metadata": {},
   "outputs": [],
   "source": [
    "import pandas as pd\n",
    "import numpy as np \n",
    "import matplotlib.pyplot as plt \n",
    "import seaborn as sns \n",
    "import warnings\n",
    "warnings.filterwarnings('ignore')"
   ]
  },
  {
   "cell_type": "markdown",
   "metadata": {},
   "source": [
    "## DATA Ingestion"
   ]
  },
  {
   "cell_type": "code",
   "execution_count": 7,
   "metadata": {},
   "outputs": [
    {
     "data": {
      "text/html": [
       "<div>\n",
       "<style scoped>\n",
       "    .dataframe tbody tr th:only-of-type {\n",
       "        vertical-align: middle;\n",
       "    }\n",
       "\n",
       "    .dataframe tbody tr th {\n",
       "        vertical-align: top;\n",
       "    }\n",
       "\n",
       "    .dataframe thead th {\n",
       "        text-align: right;\n",
       "    }\n",
       "</style>\n",
       "<table border=\"1\" class=\"dataframe\">\n",
       "  <thead>\n",
       "    <tr style=\"text-align: right;\">\n",
       "      <th></th>\n",
       "      <th>LIMIT_BAL</th>\n",
       "      <th>SEX</th>\n",
       "      <th>EDUCATION</th>\n",
       "      <th>MARRIAGE</th>\n",
       "      <th>AGE</th>\n",
       "      <th>PAY_0</th>\n",
       "      <th>PAY_2</th>\n",
       "      <th>PAY_3</th>\n",
       "      <th>PAY_4</th>\n",
       "      <th>PAY_5</th>\n",
       "      <th>...</th>\n",
       "      <th>BILL_AMT4</th>\n",
       "      <th>BILL_AMT5</th>\n",
       "      <th>BILL_AMT6</th>\n",
       "      <th>PAY_AMT1</th>\n",
       "      <th>PAY_AMT2</th>\n",
       "      <th>PAY_AMT3</th>\n",
       "      <th>PAY_AMT4</th>\n",
       "      <th>PAY_AMT5</th>\n",
       "      <th>PAY_AMT6</th>\n",
       "      <th>default payment next month</th>\n",
       "    </tr>\n",
       "  </thead>\n",
       "  <tbody>\n",
       "    <tr>\n",
       "      <th>0</th>\n",
       "      <td>50000</td>\n",
       "      <td>1</td>\n",
       "      <td>2</td>\n",
       "      <td>1</td>\n",
       "      <td>57</td>\n",
       "      <td>-1</td>\n",
       "      <td>0</td>\n",
       "      <td>-1</td>\n",
       "      <td>0</td>\n",
       "      <td>0</td>\n",
       "      <td>...</td>\n",
       "      <td>20940</td>\n",
       "      <td>19146</td>\n",
       "      <td>19131</td>\n",
       "      <td>2000</td>\n",
       "      <td>36681</td>\n",
       "      <td>10000</td>\n",
       "      <td>9000</td>\n",
       "      <td>689</td>\n",
       "      <td>679</td>\n",
       "      <td>0</td>\n",
       "    </tr>\n",
       "    <tr>\n",
       "      <th>1</th>\n",
       "      <td>50000</td>\n",
       "      <td>1</td>\n",
       "      <td>1</td>\n",
       "      <td>2</td>\n",
       "      <td>37</td>\n",
       "      <td>0</td>\n",
       "      <td>0</td>\n",
       "      <td>0</td>\n",
       "      <td>0</td>\n",
       "      <td>0</td>\n",
       "      <td>...</td>\n",
       "      <td>19394</td>\n",
       "      <td>19619</td>\n",
       "      <td>20024</td>\n",
       "      <td>2500</td>\n",
       "      <td>1815</td>\n",
       "      <td>657</td>\n",
       "      <td>1000</td>\n",
       "      <td>1000</td>\n",
       "      <td>800</td>\n",
       "      <td>0</td>\n",
       "    </tr>\n",
       "    <tr>\n",
       "      <th>2</th>\n",
       "      <td>500000</td>\n",
       "      <td>1</td>\n",
       "      <td>1</td>\n",
       "      <td>2</td>\n",
       "      <td>29</td>\n",
       "      <td>0</td>\n",
       "      <td>0</td>\n",
       "      <td>0</td>\n",
       "      <td>0</td>\n",
       "      <td>0</td>\n",
       "      <td>...</td>\n",
       "      <td>542653</td>\n",
       "      <td>483003</td>\n",
       "      <td>473944</td>\n",
       "      <td>55000</td>\n",
       "      <td>40000</td>\n",
       "      <td>38000</td>\n",
       "      <td>20239</td>\n",
       "      <td>13750</td>\n",
       "      <td>13770</td>\n",
       "      <td>0</td>\n",
       "    </tr>\n",
       "    <tr>\n",
       "      <th>3</th>\n",
       "      <td>100000</td>\n",
       "      <td>2</td>\n",
       "      <td>2</td>\n",
       "      <td>2</td>\n",
       "      <td>23</td>\n",
       "      <td>0</td>\n",
       "      <td>-1</td>\n",
       "      <td>-1</td>\n",
       "      <td>0</td>\n",
       "      <td>0</td>\n",
       "      <td>...</td>\n",
       "      <td>221</td>\n",
       "      <td>-159</td>\n",
       "      <td>567</td>\n",
       "      <td>380</td>\n",
       "      <td>601</td>\n",
       "      <td>0</td>\n",
       "      <td>581</td>\n",
       "      <td>1687</td>\n",
       "      <td>1542</td>\n",
       "      <td>0</td>\n",
       "    </tr>\n",
       "    <tr>\n",
       "      <th>4</th>\n",
       "      <td>140000</td>\n",
       "      <td>2</td>\n",
       "      <td>3</td>\n",
       "      <td>1</td>\n",
       "      <td>28</td>\n",
       "      <td>0</td>\n",
       "      <td>0</td>\n",
       "      <td>2</td>\n",
       "      <td>0</td>\n",
       "      <td>0</td>\n",
       "      <td>...</td>\n",
       "      <td>12211</td>\n",
       "      <td>11793</td>\n",
       "      <td>3719</td>\n",
       "      <td>3329</td>\n",
       "      <td>0</td>\n",
       "      <td>432</td>\n",
       "      <td>1000</td>\n",
       "      <td>1000</td>\n",
       "      <td>1000</td>\n",
       "      <td>0</td>\n",
       "    </tr>\n",
       "  </tbody>\n",
       "</table>\n",
       "<p>5 rows × 24 columns</p>\n",
       "</div>"
      ],
      "text/plain": [
       "   LIMIT_BAL  SEX  EDUCATION  MARRIAGE  AGE  PAY_0  PAY_2  PAY_3  PAY_4  \\\n",
       "0      50000    1          2         1   57     -1      0     -1      0   \n",
       "1      50000    1          1         2   37      0      0      0      0   \n",
       "2     500000    1          1         2   29      0      0      0      0   \n",
       "3     100000    2          2         2   23      0     -1     -1      0   \n",
       "4     140000    2          3         1   28      0      0      2      0   \n",
       "\n",
       "   PAY_5  ...  BILL_AMT4  BILL_AMT5  BILL_AMT6  PAY_AMT1  PAY_AMT2  PAY_AMT3  \\\n",
       "0      0  ...      20940      19146      19131      2000     36681     10000   \n",
       "1      0  ...      19394      19619      20024      2500      1815       657   \n",
       "2      0  ...     542653     483003     473944     55000     40000     38000   \n",
       "3      0  ...        221       -159        567       380       601         0   \n",
       "4      0  ...      12211      11793       3719      3329         0       432   \n",
       "\n",
       "   PAY_AMT4  PAY_AMT5  PAY_AMT6  default payment next month  \n",
       "0      9000       689       679                           0  \n",
       "1      1000      1000       800                           0  \n",
       "2     20239     13750     13770                           0  \n",
       "3       581      1687      1542                           0  \n",
       "4      1000      1000      1000                           0  \n",
       "\n",
       "[5 rows x 24 columns]"
      ]
     },
     "execution_count": 7,
     "metadata": {},
     "output_type": "execute_result"
    }
   ],
   "source": [
    "data= pd.read_csv('creditCardFraud_28011964_120214.csv')\n",
    "data.head()"
   ]
  },
  {
   "cell_type": "markdown",
   "metadata": {},
   "source": [
    "## Auto EDA"
   ]
  },
  {
   "cell_type": "code",
   "execution_count": 8,
   "metadata": {},
   "outputs": [],
   "source": [
    "#!pip install ydata-profiling"
   ]
  },
  {
   "cell_type": "code",
   "execution_count": 9,
   "metadata": {},
   "outputs": [
    {
     "data": {
      "text/plain": [
       "\"from ydata_profiling import ProfileReport\\nprofile = ProfileReport(data , title= 'CreditReport')\\nprofile.to_widgets()\""
      ]
     },
     "execution_count": 9,
     "metadata": {},
     "output_type": "execute_result"
    }
   ],
   "source": [
    "'''from ydata_profiling import ProfileReport\n",
    "profile = ProfileReport(data , title= 'CreditReport')\n",
    "profile.to_widgets()'''"
   ]
  },
  {
   "cell_type": "code",
   "execution_count": 10,
   "metadata": {},
   "outputs": [
    {
     "data": {
      "text/plain": [
       "(1001, 24)"
      ]
     },
     "execution_count": 10,
     "metadata": {},
     "output_type": "execute_result"
    }
   ],
   "source": [
    "data.shape"
   ]
  },
  {
   "cell_type": "code",
   "execution_count": 11,
   "metadata": {},
   "outputs": [
    {
     "data": {
      "text/plain": [
       "LIMIT_BAL                     0\n",
       "SEX                           0\n",
       "EDUCATION                     0\n",
       "MARRIAGE                      0\n",
       "AGE                           0\n",
       "PAY_0                         0\n",
       "PAY_2                         0\n",
       "PAY_3                         0\n",
       "PAY_4                         0\n",
       "PAY_5                         0\n",
       "PAY_6                         0\n",
       "BILL_AMT1                     0\n",
       "BILL_AMT2                     0\n",
       "BILL_AMT3                     0\n",
       "BILL_AMT4                     0\n",
       "BILL_AMT5                     0\n",
       "BILL_AMT6                     0\n",
       "PAY_AMT1                      0\n",
       "PAY_AMT2                      0\n",
       "PAY_AMT3                      0\n",
       "PAY_AMT4                      0\n",
       "PAY_AMT5                      0\n",
       "PAY_AMT6                      0\n",
       "default payment next month    0\n",
       "dtype: int64"
      ]
     },
     "execution_count": 11,
     "metadata": {},
     "output_type": "execute_result"
    }
   ],
   "source": [
    "data.isna().sum()"
   ]
  },
  {
   "cell_type": "code",
   "execution_count": 12,
   "metadata": {},
   "outputs": [
    {
     "name": "stdout",
     "output_type": "stream",
     "text": [
      "<class 'pandas.core.frame.DataFrame'>\n",
      "RangeIndex: 1001 entries, 0 to 1000\n",
      "Data columns (total 24 columns):\n",
      " #   Column                      Non-Null Count  Dtype\n",
      "---  ------                      --------------  -----\n",
      " 0   LIMIT_BAL                   1001 non-null   int64\n",
      " 1   SEX                         1001 non-null   int64\n",
      " 2   EDUCATION                   1001 non-null   int64\n",
      " 3   MARRIAGE                    1001 non-null   int64\n",
      " 4   AGE                         1001 non-null   int64\n",
      " 5   PAY_0                       1001 non-null   int64\n",
      " 6   PAY_2                       1001 non-null   int64\n",
      " 7   PAY_3                       1001 non-null   int64\n",
      " 8   PAY_4                       1001 non-null   int64\n",
      " 9   PAY_5                       1001 non-null   int64\n",
      " 10  PAY_6                       1001 non-null   int64\n",
      " 11  BILL_AMT1                   1001 non-null   int64\n",
      " 12  BILL_AMT2                   1001 non-null   int64\n",
      " 13  BILL_AMT3                   1001 non-null   int64\n",
      " 14  BILL_AMT4                   1001 non-null   int64\n",
      " 15  BILL_AMT5                   1001 non-null   int64\n",
      " 16  BILL_AMT6                   1001 non-null   int64\n",
      " 17  PAY_AMT1                    1001 non-null   int64\n",
      " 18  PAY_AMT2                    1001 non-null   int64\n",
      " 19  PAY_AMT3                    1001 non-null   int64\n",
      " 20  PAY_AMT4                    1001 non-null   int64\n",
      " 21  PAY_AMT5                    1001 non-null   int64\n",
      " 22  PAY_AMT6                    1001 non-null   int64\n",
      " 23  default payment next month  1001 non-null   int64\n",
      "dtypes: int64(24)\n",
      "memory usage: 187.8 KB\n"
     ]
    }
   ],
   "source": [
    "data.info()"
   ]
  },
  {
   "cell_type": "code",
   "execution_count": 13,
   "metadata": {},
   "outputs": [
    {
     "data": {
      "text/plain": [
       "'sns.pairplot(data)'"
      ]
     },
     "execution_count": 13,
     "metadata": {},
     "output_type": "execute_result"
    }
   ],
   "source": [
    "'''sns.pairplot(data)'''"
   ]
  },
  {
   "cell_type": "code",
   "execution_count": 14,
   "metadata": {},
   "outputs": [
    {
     "data": {
      "text/plain": [
       "'plt.figure(figsize=(13,8))\\nsns.heatmap(data.corr(),annot=True)'"
      ]
     },
     "execution_count": 14,
     "metadata": {},
     "output_type": "execute_result"
    }
   ],
   "source": [
    "'''plt.figure(figsize=(13,8))\n",
    "sns.heatmap(data.corr(),annot=True)'''"
   ]
  },
  {
   "cell_type": "markdown",
   "metadata": {},
   "source": [
    "From the correlation heatmap above, it can be seen that there are some relationships between the feature columns, they are not entirely independent. \n",
    "\n",
    "But in this scenario, there is a correlation because a customer who was not able to pay the bill for 1 month was again not able to pay it for the subsequent months and hence the correlation.\n",
    "\n",
    "Again for the bill amount column, the same has happened. If the customer was not able to pay the bill, then the bill amount almost remained the same, or if the customer was able to pay then the bill amount got reduced.\n",
    "\n",
    "We remove columns when they convey the same information. But here, dropping the columns shall result in the loss of bill and payment history data. So, we don’t need to drop any column although there is a correlation. \n"
   ]
  },
  {
   "cell_type": "markdown",
   "metadata": {},
   "source": [
    "# Spliting dependent and independent of features"
   ]
  },
  {
   "cell_type": "code",
   "execution_count": 15,
   "metadata": {},
   "outputs": [],
   "source": [
    "X = data.drop(labels=['default payment next month'], axis=1)\n",
    "y= data['default payment next month']"
   ]
  },
  {
   "cell_type": "code",
   "execution_count": 16,
   "metadata": {},
   "outputs": [
    {
     "data": {
      "text/plain": [
       "Index(['LIMIT_BAL', 'SEX', 'EDUCATION', 'MARRIAGE', 'AGE', 'PAY_0', 'PAY_2',\n",
       "       'PAY_3', 'PAY_4', 'PAY_5', 'PAY_6', 'BILL_AMT1', 'BILL_AMT2',\n",
       "       'BILL_AMT3', 'BILL_AMT4', 'BILL_AMT5', 'BILL_AMT6', 'PAY_AMT1',\n",
       "       'PAY_AMT2', 'PAY_AMT3', 'PAY_AMT4', 'PAY_AMT5', 'PAY_AMT6'],\n",
       "      dtype='object')"
      ]
     },
     "execution_count": 16,
     "metadata": {},
     "output_type": "execute_result"
    }
   ],
   "source": [
    "X.columns"
   ]
  },
  {
   "cell_type": "code",
   "execution_count": 17,
   "metadata": {},
   "outputs": [
    {
     "data": {
      "text/html": [
       "<div>\n",
       "<style scoped>\n",
       "    .dataframe tbody tr th:only-of-type {\n",
       "        vertical-align: middle;\n",
       "    }\n",
       "\n",
       "    .dataframe tbody tr th {\n",
       "        vertical-align: top;\n",
       "    }\n",
       "\n",
       "    .dataframe thead th {\n",
       "        text-align: right;\n",
       "    }\n",
       "</style>\n",
       "<table border=\"1\" class=\"dataframe\">\n",
       "  <thead>\n",
       "    <tr style=\"text-align: right;\">\n",
       "      <th></th>\n",
       "      <th>LIMIT_BAL</th>\n",
       "      <th>SEX</th>\n",
       "      <th>EDUCATION</th>\n",
       "      <th>MARRIAGE</th>\n",
       "      <th>AGE</th>\n",
       "      <th>PAY_0</th>\n",
       "      <th>PAY_2</th>\n",
       "      <th>PAY_3</th>\n",
       "      <th>PAY_4</th>\n",
       "      <th>PAY_5</th>\n",
       "      <th>...</th>\n",
       "      <th>BILL_AMT3</th>\n",
       "      <th>BILL_AMT4</th>\n",
       "      <th>BILL_AMT5</th>\n",
       "      <th>BILL_AMT6</th>\n",
       "      <th>PAY_AMT1</th>\n",
       "      <th>PAY_AMT2</th>\n",
       "      <th>PAY_AMT3</th>\n",
       "      <th>PAY_AMT4</th>\n",
       "      <th>PAY_AMT5</th>\n",
       "      <th>PAY_AMT6</th>\n",
       "    </tr>\n",
       "  </thead>\n",
       "  <tbody>\n",
       "    <tr>\n",
       "      <th>0</th>\n",
       "      <td>50000</td>\n",
       "      <td>1</td>\n",
       "      <td>2</td>\n",
       "      <td>1</td>\n",
       "      <td>57</td>\n",
       "      <td>-1</td>\n",
       "      <td>0</td>\n",
       "      <td>-1</td>\n",
       "      <td>0</td>\n",
       "      <td>0</td>\n",
       "      <td>...</td>\n",
       "      <td>35835</td>\n",
       "      <td>20940</td>\n",
       "      <td>19146</td>\n",
       "      <td>19131</td>\n",
       "      <td>2000</td>\n",
       "      <td>36681</td>\n",
       "      <td>10000</td>\n",
       "      <td>9000</td>\n",
       "      <td>689</td>\n",
       "      <td>679</td>\n",
       "    </tr>\n",
       "    <tr>\n",
       "      <th>1</th>\n",
       "      <td>50000</td>\n",
       "      <td>1</td>\n",
       "      <td>1</td>\n",
       "      <td>2</td>\n",
       "      <td>37</td>\n",
       "      <td>0</td>\n",
       "      <td>0</td>\n",
       "      <td>0</td>\n",
       "      <td>0</td>\n",
       "      <td>0</td>\n",
       "      <td>...</td>\n",
       "      <td>57608</td>\n",
       "      <td>19394</td>\n",
       "      <td>19619</td>\n",
       "      <td>20024</td>\n",
       "      <td>2500</td>\n",
       "      <td>1815</td>\n",
       "      <td>657</td>\n",
       "      <td>1000</td>\n",
       "      <td>1000</td>\n",
       "      <td>800</td>\n",
       "    </tr>\n",
       "    <tr>\n",
       "      <th>2</th>\n",
       "      <td>500000</td>\n",
       "      <td>1</td>\n",
       "      <td>1</td>\n",
       "      <td>2</td>\n",
       "      <td>29</td>\n",
       "      <td>0</td>\n",
       "      <td>0</td>\n",
       "      <td>0</td>\n",
       "      <td>0</td>\n",
       "      <td>0</td>\n",
       "      <td>...</td>\n",
       "      <td>445007</td>\n",
       "      <td>542653</td>\n",
       "      <td>483003</td>\n",
       "      <td>473944</td>\n",
       "      <td>55000</td>\n",
       "      <td>40000</td>\n",
       "      <td>38000</td>\n",
       "      <td>20239</td>\n",
       "      <td>13750</td>\n",
       "      <td>13770</td>\n",
       "    </tr>\n",
       "    <tr>\n",
       "      <th>3</th>\n",
       "      <td>100000</td>\n",
       "      <td>2</td>\n",
       "      <td>2</td>\n",
       "      <td>2</td>\n",
       "      <td>23</td>\n",
       "      <td>0</td>\n",
       "      <td>-1</td>\n",
       "      <td>-1</td>\n",
       "      <td>0</td>\n",
       "      <td>0</td>\n",
       "      <td>...</td>\n",
       "      <td>601</td>\n",
       "      <td>221</td>\n",
       "      <td>-159</td>\n",
       "      <td>567</td>\n",
       "      <td>380</td>\n",
       "      <td>601</td>\n",
       "      <td>0</td>\n",
       "      <td>581</td>\n",
       "      <td>1687</td>\n",
       "      <td>1542</td>\n",
       "    </tr>\n",
       "    <tr>\n",
       "      <th>4</th>\n",
       "      <td>140000</td>\n",
       "      <td>2</td>\n",
       "      <td>3</td>\n",
       "      <td>1</td>\n",
       "      <td>28</td>\n",
       "      <td>0</td>\n",
       "      <td>0</td>\n",
       "      <td>2</td>\n",
       "      <td>0</td>\n",
       "      <td>0</td>\n",
       "      <td>...</td>\n",
       "      <td>12108</td>\n",
       "      <td>12211</td>\n",
       "      <td>11793</td>\n",
       "      <td>3719</td>\n",
       "      <td>3329</td>\n",
       "      <td>0</td>\n",
       "      <td>432</td>\n",
       "      <td>1000</td>\n",
       "      <td>1000</td>\n",
       "      <td>1000</td>\n",
       "    </tr>\n",
       "  </tbody>\n",
       "</table>\n",
       "<p>5 rows × 23 columns</p>\n",
       "</div>"
      ],
      "text/plain": [
       "   LIMIT_BAL  SEX  EDUCATION  MARRIAGE  AGE  PAY_0  PAY_2  PAY_3  PAY_4  \\\n",
       "0      50000    1          2         1   57     -1      0     -1      0   \n",
       "1      50000    1          1         2   37      0      0      0      0   \n",
       "2     500000    1          1         2   29      0      0      0      0   \n",
       "3     100000    2          2         2   23      0     -1     -1      0   \n",
       "4     140000    2          3         1   28      0      0      2      0   \n",
       "\n",
       "   PAY_5  ...  BILL_AMT3  BILL_AMT4  BILL_AMT5  BILL_AMT6  PAY_AMT1  PAY_AMT2  \\\n",
       "0      0  ...      35835      20940      19146      19131      2000     36681   \n",
       "1      0  ...      57608      19394      19619      20024      2500      1815   \n",
       "2      0  ...     445007     542653     483003     473944     55000     40000   \n",
       "3      0  ...        601        221       -159        567       380       601   \n",
       "4      0  ...      12108      12211      11793       3719      3329         0   \n",
       "\n",
       "   PAY_AMT3  PAY_AMT4  PAY_AMT5  PAY_AMT6  \n",
       "0     10000      9000       689       679  \n",
       "1       657      1000      1000       800  \n",
       "2     38000     20239     13750     13770  \n",
       "3         0       581      1687      1542  \n",
       "4       432      1000      1000      1000  \n",
       "\n",
       "[5 rows x 23 columns]"
      ]
     },
     "execution_count": 17,
     "metadata": {},
     "output_type": "execute_result"
    }
   ],
   "source": [
    "X.head()"
   ]
  },
  {
   "cell_type": "code",
   "execution_count": 18,
   "metadata": {},
   "outputs": [
    {
     "data": {
      "text/plain": [
       "0    0\n",
       "1    0\n",
       "2    0\n",
       "3    0\n",
       "4    0\n",
       "Name: default payment next month, dtype: int64"
      ]
     },
     "execution_count": 18,
     "metadata": {},
     "output_type": "execute_result"
    }
   ],
   "source": [
    "y.head()"
   ]
  },
  {
   "cell_type": "markdown",
   "metadata": {},
   "source": [
    "# Train Test Split"
   ]
  },
  {
   "cell_type": "code",
   "execution_count": 19,
   "metadata": {},
   "outputs": [],
   "source": [
    "from sklearn.model_selection import train_test_split\n",
    "X_train,X_test,y_train,y_test = train_test_split(X,y,test_size=0.33 , random_state=42)"
   ]
  },
  {
   "cell_type": "markdown",
   "metadata": {},
   "source": [
    "# Feature Scaling"
   ]
  },
  {
   "cell_type": "code",
   "execution_count": 20,
   "metadata": {},
   "outputs": [],
   "source": [
    "from sklearn.preprocessing import StandardScaler\n",
    "scaler = StandardScaler()"
   ]
  },
  {
   "cell_type": "code",
   "execution_count": 21,
   "metadata": {},
   "outputs": [],
   "source": [
    "scaled_train_data = scaler.fit_transform(X_train)\n",
    "scaled_test_data = scaler.transform(X_test)"
   ]
  },
  {
   "cell_type": "code",
   "execution_count": 22,
   "metadata": {},
   "outputs": [
    {
     "data": {
      "text/plain": [
       "(numpy.ndarray, pandas.core.frame.DataFrame)"
      ]
     },
     "execution_count": 22,
     "metadata": {},
     "output_type": "execute_result"
    }
   ],
   "source": [
    "type(scaled_train_data) , type(X)"
   ]
  },
  {
   "cell_type": "markdown",
   "metadata": {},
   "source": [
    "# Model Training\n",
    "\n",
    "Gaussian Naive Baye's"
   ]
  },
  {
   "cell_type": "code",
   "execution_count": 23,
   "metadata": {},
   "outputs": [],
   "source": [
    "from sklearn.metrics import accuracy_score,confusion_matrix,classification_report\n",
    "def metrics(y_true , y_predicted):\n",
    "    ac=accuracy_score(y_true,y_predicted)\n",
    "    cm=confusion_matrix(y_true,y_predicted)\n",
    "    cr=classification_report(y_true,y_predicted)\n",
    "    return print(\"Accuracy_score is:-  {0} \\n----------------------------------\\n Confusion_matrix is:- \\n {1} \\n-----------------------------------\\n Classification_report is:-\\n {2}\".format(ac,cm,cr))\n",
    "\n",
    "def get_difference(y_true , y_predicted , y_predicted_cv):\n",
    "    as1 = accuracy_score(y_true , y_predicted_cv)\n",
    "    as2 = accuracy_score(y_true , y_predicted)\n",
    "    diff= as1-as2 \n",
    "    return print(\"Model is performing:- {:.2f} % better \\n Without CV accuracy:- {:.2f} % \\n After CV accuracy:- {:.2f} %\".format(diff*100,as2*100 ,as1*100 ))\n",
    "    #return diff\n"
   ]
  },
  {
   "cell_type": "code",
   "execution_count": 24,
   "metadata": {},
   "outputs": [
    {
     "name": "stdout",
     "output_type": "stream",
     "text": [
      "Accuracy_score is:-  0.676737160120846 \n",
      "----------------------------------\n",
      " Confusion_matrix is:- \n",
      " [[188  83]\n",
      " [ 24  36]] \n",
      "-----------------------------------\n",
      " Classification_report is:-\n",
      "               precision    recall  f1-score   support\n",
      "\n",
      "           0       0.89      0.69      0.78       271\n",
      "           1       0.30      0.60      0.40        60\n",
      "\n",
      "    accuracy                           0.68       331\n",
      "   macro avg       0.59      0.65      0.59       331\n",
      "weighted avg       0.78      0.68      0.71       331\n",
      "\n"
     ]
    }
   ],
   "source": [
    "from sklearn.naive_bayes import GaussianNB\n",
    "\n",
    "gnb = GaussianNB()\n",
    "y_pred=gnb.fit(scaled_train_data,y_train).predict(scaled_test_data)\n",
    "metrics(y_test , y_pred)"
   ]
  },
  {
   "cell_type": "markdown",
   "metadata": {},
   "source": [
    "Random Forest Classifier"
   ]
  },
  {
   "cell_type": "code",
   "execution_count": 25,
   "metadata": {},
   "outputs": [
    {
     "name": "stdout",
     "output_type": "stream",
     "text": [
      "Accuracy_score is:-  0.8459214501510574 \n",
      "----------------------------------\n",
      " Confusion_matrix is:- \n",
      " [[263   8]\n",
      " [ 43  17]] \n",
      "-----------------------------------\n",
      " Classification_report is:-\n",
      "               precision    recall  f1-score   support\n",
      "\n",
      "           0       0.86      0.97      0.91       271\n",
      "           1       0.68      0.28      0.40        60\n",
      "\n",
      "    accuracy                           0.85       331\n",
      "   macro avg       0.77      0.63      0.66       331\n",
      "weighted avg       0.83      0.85      0.82       331\n",
      "\n"
     ]
    }
   ],
   "source": [
    "from sklearn.ensemble import RandomForestClassifier\n",
    "rf = RandomForestClassifier()\n",
    "y_pred1=rf.fit(scaled_train_data,y_train).predict(scaled_test_data)\n",
    "metrics(y_test , y_pred1)"
   ]
  },
  {
   "cell_type": "markdown",
   "metadata": {},
   "source": [
    "XG Boost Classifier"
   ]
  },
  {
   "cell_type": "code",
   "execution_count": 26,
   "metadata": {},
   "outputs": [
    {
     "name": "stdout",
     "output_type": "stream",
     "text": [
      "Accuracy_score is:-  0.8126888217522659 \n",
      "----------------------------------\n",
      " Confusion_matrix is:- \n",
      " [[248  23]\n",
      " [ 39  21]] \n",
      "-----------------------------------\n",
      " Classification_report is:-\n",
      "               precision    recall  f1-score   support\n",
      "\n",
      "           0       0.86      0.92      0.89       271\n",
      "           1       0.48      0.35      0.40        60\n",
      "\n",
      "    accuracy                           0.81       331\n",
      "   macro avg       0.67      0.63      0.65       331\n",
      "weighted avg       0.79      0.81      0.80       331\n",
      "\n"
     ]
    }
   ],
   "source": [
    "from xgboost import XGBClassifier\n",
    "xgb = XGBClassifier()\n",
    "y_pred2 = xgb.fit(scaled_train_data,y_train).predict(scaled_test_data)\n",
    "metrics(y_test , y_pred2)"
   ]
  },
  {
   "cell_type": "markdown",
   "metadata": {},
   "source": [
    "# Model Evaluation\n",
    "<h3>Hyperparameter Tuning"
   ]
  },
  {
   "cell_type": "markdown",
   "metadata": {},
   "source": [
    "1) Gaussian Naive Baye's"
   ]
  },
  {
   "cell_type": "code",
   "execution_count": 27,
   "metadata": {},
   "outputs": [
    {
     "name": "stdout",
     "output_type": "stream",
     "text": [
      "Fitting 5 folds for each of 11 candidates, totalling 55 fits\n",
      "[CV 1/5] END ...............var_smoothing=1e-12;, score=0.299 total time=   0.0s\n",
      "[CV 2/5] END ...............var_smoothing=1e-12;, score=0.769 total time=   0.0s\n",
      "[CV 3/5] END ...............var_smoothing=1e-12;, score=0.694 total time=   0.0s\n",
      "[CV 4/5] END ...............var_smoothing=1e-12;, score=0.679 total time=   0.0s\n",
      "[CV 5/5] END ...............var_smoothing=1e-12;, score=0.679 total time=   0.0s\n",
      "[CV 1/5] END ...............var_smoothing=1e-10;, score=0.299 total time=   0.0s\n",
      "[CV 2/5] END ...............var_smoothing=1e-10;, score=0.769 total time=   0.0s\n",
      "[CV 3/5] END ...............var_smoothing=1e-10;, score=0.694 total time=   0.0s\n",
      "[CV 4/5] END ...............var_smoothing=1e-10;, score=0.679 total time=   0.0s\n",
      "[CV 5/5] END ...............var_smoothing=1e-10;, score=0.679 total time=   0.0s\n",
      "[CV 1/5] END ...............var_smoothing=1e-06;, score=0.299 total time=   0.0s\n",
      "[CV 2/5] END ...............var_smoothing=1e-06;, score=0.769 total time=   0.0s\n",
      "[CV 3/5] END ...............var_smoothing=1e-06;, score=0.694 total time=   0.0s\n",
      "[CV 4/5] END ...............var_smoothing=1e-06;, score=0.679 total time=   0.0s\n",
      "[CV 5/5] END ...............var_smoothing=1e-06;, score=0.679 total time=   0.0s\n",
      "[CV 1/5] END ..............var_smoothing=0.0001;, score=0.299 total time=   0.0s\n",
      "[CV 2/5] END ..............var_smoothing=0.0001;, score=0.769 total time=   0.0s\n",
      "[CV 3/5] END ..............var_smoothing=0.0001;, score=0.694 total time=   0.0s\n",
      "[CV 4/5] END ..............var_smoothing=0.0001;, score=0.679 total time=   0.0s\n",
      "[CV 5/5] END ..............var_smoothing=0.0001;, score=0.679 total time=   0.0s\n",
      "[CV 1/5] END ...............var_smoothing=0.001;, score=0.299 total time=   0.0s\n",
      "[CV 2/5] END ...............var_smoothing=0.001;, score=0.769 total time=   0.0s\n",
      "[CV 3/5] END ...............var_smoothing=0.001;, score=0.694 total time=   0.0s\n",
      "[CV 4/5] END ...............var_smoothing=0.001;, score=0.679 total time=   0.0s\n",
      "[CV 5/5] END ...............var_smoothing=0.001;, score=0.679 total time=   0.0s\n",
      "[CV 1/5] END ................var_smoothing=0.01;, score=0.306 total time=   0.0s\n",
      "[CV 2/5] END ................var_smoothing=0.01;, score=0.784 total time=   0.0s\n",
      "[CV 3/5] END ................var_smoothing=0.01;, score=0.694 total time=   0.0s\n",
      "[CV 4/5] END ................var_smoothing=0.01;, score=0.679 total time=   0.0s\n",
      "[CV 5/5] END ................var_smoothing=0.01;, score=0.679 total time=   0.0s\n",
      "[CV 1/5] END .................var_smoothing=0.1;, score=0.321 total time=   0.0s\n",
      "[CV 2/5] END .................var_smoothing=0.1;, score=0.776 total time=   0.0s\n",
      "[CV 3/5] END .................var_smoothing=0.1;, score=0.731 total time=   0.0s\n",
      "[CV 4/5] END .................var_smoothing=0.1;, score=0.679 total time=   0.0s\n",
      "[CV 5/5] END .................var_smoothing=0.1;, score=0.724 total time=   0.0s\n",
      "[CV 1/5] END .................var_smoothing=0.1;, score=0.321 total time=   0.0s\n",
      "[CV 2/5] END .................var_smoothing=0.1;, score=0.776 total time=   0.0s\n",
      "[CV 3/5] END .................var_smoothing=0.1;, score=0.731 total time=   0.0s\n",
      "[CV 4/5] END .................var_smoothing=0.1;, score=0.679 total time=   0.0s\n",
      "[CV 5/5] END .................var_smoothing=0.1;, score=0.724 total time=   0.0s\n",
      "[CV 1/5] END ...............var_smoothing=0.001;, score=0.299 total time=   0.0s\n",
      "[CV 2/5] END ...............var_smoothing=0.001;, score=0.769 total time=   0.0s\n",
      "[CV 3/5] END ...............var_smoothing=0.001;, score=0.694 total time=   0.0s\n",
      "[CV 4/5] END ...............var_smoothing=0.001;, score=0.679 total time=   0.0s\n",
      "[CV 5/5] END ...............var_smoothing=0.001;, score=0.679 total time=   0.0s\n",
      "[CV 1/5] END .................var_smoothing=0.5;, score=0.746 total time=   0.0s\n",
      "[CV 2/5] END .................var_smoothing=0.5;, score=0.784 total time=   0.0s\n",
      "[CV 3/5] END .................var_smoothing=0.5;, score=0.799 total time=   0.0s\n",
      "[CV 4/5] END .................var_smoothing=0.5;, score=0.731 total time=   0.0s\n",
      "[CV 5/5] END .................var_smoothing=0.5;, score=0.776 total time=   0.0s\n",
      "[CV 1/5] END ...............var_smoothing=0.005;, score=0.299 total time=   0.0s\n",
      "[CV 2/5] END ...............var_smoothing=0.005;, score=0.784 total time=   0.0s\n",
      "[CV 3/5] END ...............var_smoothing=0.005;, score=0.694 total time=   0.0s\n",
      "[CV 4/5] END ...............var_smoothing=0.005;, score=0.679 total time=   0.0s\n",
      "[CV 5/5] END ...............var_smoothing=0.005;, score=0.679 total time=   0.0s\n"
     ]
    },
    {
     "data": {
      "text/plain": [
       "{'var_smoothing': 0.5}"
      ]
     },
     "execution_count": 27,
     "metadata": {},
     "output_type": "execute_result"
    }
   ],
   "source": [
    "from sklearn.model_selection import GridSearchCV\n",
    "param_grid={'var_smoothing':[ 1e-12,1e-10,1e-6,1e-4,1e-3,1e-2,1e-1,0.1,0.001,0.5,0.005]}\n",
    "grid=GridSearchCV(estimator=gnb,param_grid=param_grid,cv=5,verbose=3)\n",
    "grid.fit(scaled_train_data,y_train)\n",
    "grid.best_params_"
   ]
  },
  {
   "cell_type": "code",
   "execution_count": 28,
   "metadata": {},
   "outputs": [
    {
     "name": "stdout",
     "output_type": "stream",
     "text": [
      "Accuracy_score is:-  0.8066465256797583 \n",
      "----------------------------------\n",
      " Confusion_matrix is:- \n",
      " [[243  28]\n",
      " [ 36  24]] \n",
      "-----------------------------------\n",
      " Classification_report is:-\n",
      "               precision    recall  f1-score   support\n",
      "\n",
      "           0       0.87      0.90      0.88       271\n",
      "           1       0.46      0.40      0.43        60\n",
      "\n",
      "    accuracy                           0.81       331\n",
      "   macro avg       0.67      0.65      0.66       331\n",
      "weighted avg       0.80      0.81      0.80       331\n",
      "\n"
     ]
    }
   ],
   "source": [
    "gnb_cv = GaussianNB(var_smoothing=0.5)\n",
    "y_pred_cv=gnb_cv.fit(scaled_train_data,y_train).predict(scaled_test_data)\n",
    "metrics(y_test , y_pred_cv)"
   ]
  },
  {
   "cell_type": "code",
   "execution_count": 29,
   "metadata": {},
   "outputs": [
    {
     "name": "stdout",
     "output_type": "stream",
     "text": [
      "Model is performing:- 12.99 % better \n",
      " Without CV accuracy:- 67.67 % \n",
      " After CV accuracy:- 80.66 %\n"
     ]
    }
   ],
   "source": [
    "get_difference(y_test , y_pred , y_pred_cv)"
   ]
  },
  {
   "cell_type": "markdown",
   "metadata": {},
   "source": [
    "2) Random Forest Classifier"
   ]
  },
  {
   "cell_type": "code",
   "execution_count": 30,
   "metadata": {},
   "outputs": [
    {
     "data": {
      "text/plain": [
       "'param_grid1= {\"n_estimators\":[100,50,150], \"criterion\":[\\'gini\\',\\'entropy\\',\\'log_loss\\'], \\'max_depth\\':[1,3,9,15],\\'max_features\\':[\\'sqrt\\',\\'log2\\'],\\'oob_score\\':[True,False], \\'class_weight\\':[\\'balanced\\',\\'balanced_subsample\\'],\\'random_state\\':[0,50,42] }\\ngrid=GridSearchCV(estimator=rf,param_grid=param_grid1,cv=5,verbose=3)\\ngrid.fit(scaled_train_data,y_train)\\ngrid.best_params_'"
      ]
     },
     "execution_count": 30,
     "metadata": {},
     "output_type": "execute_result"
    }
   ],
   "source": [
    "'''param_grid1= {\"n_estimators\":[100,50,150], \"criterion\":['gini','entropy','log_loss'], 'max_depth':[1,3,9,15],'max_features':['sqrt','log2'],'oob_score':[True,False], 'class_weight':['balanced','balanced_subsample'],'random_state':[0,50,42] }\n",
    "grid=GridSearchCV(estimator=rf,param_grid=param_grid1,cv=5,verbose=3)\n",
    "grid.fit(scaled_train_data,y_train)\n",
    "grid.best_params_'''"
   ]
  },
  {
   "cell_type": "markdown",
   "metadata": {},
   "source": [
    "{'class_weight': 'balanced_subsample',\n",
    " 'criterion': 'gini',\n",
    " 'max_depth': 9,\n",
    " 'max_features': 'sqrt',\n",
    " 'n_estimators': 50,\n",
    " 'oob_score': True,\n",
    " 'random_state': 42}"
   ]
  },
  {
   "cell_type": "code",
   "execution_count": 31,
   "metadata": {},
   "outputs": [
    {
     "name": "stdout",
     "output_type": "stream",
     "text": [
      "Accuracy_score is:-  0.8398791540785498 \n",
      "----------------------------------\n",
      " Confusion_matrix is:- \n",
      " [[258  13]\n",
      " [ 40  20]] \n",
      "-----------------------------------\n",
      " Classification_report is:-\n",
      "               precision    recall  f1-score   support\n",
      "\n",
      "           0       0.87      0.95      0.91       271\n",
      "           1       0.61      0.33      0.43        60\n",
      "\n",
      "    accuracy                           0.84       331\n",
      "   macro avg       0.74      0.64      0.67       331\n",
      "weighted avg       0.82      0.84      0.82       331\n",
      "\n"
     ]
    }
   ],
   "source": [
    "rf_cv1_1 = RandomForestClassifier(class_weight='balanced_subsample', criterion='gini', max_depth= 9,max_features= 'sqrt',n_estimators=100,oob_score=True,random_state=0)\n",
    "y_pred_cv1_1=rf_cv1_1.fit(scaled_train_data,y_train).predict(scaled_test_data)\n",
    "metrics(y_test , y_pred_cv1_1)"
   ]
  },
  {
   "cell_type": "code",
   "execution_count": 32,
   "metadata": {},
   "outputs": [
    {
     "name": "stdout",
     "output_type": "stream",
     "text": [
      "Model is performing:- -0.60 % better \n",
      " Without CV accuracy:- 84.59 % \n",
      " After CV accuracy:- 83.99 %\n"
     ]
    }
   ],
   "source": [
    "get_difference(y_test , y_pred1 , y_pred_cv1_1)"
   ]
  },
  {
   "cell_type": "markdown",
   "metadata": {},
   "source": [
    "Let's tweek few more parameters to see if we can further improve the accuracy"
   ]
  },
  {
   "cell_type": "code",
   "execution_count": 33,
   "metadata": {},
   "outputs": [
    {
     "name": "stdout",
     "output_type": "stream",
     "text": [
      "Fitting 5 folds for each of 84 candidates, totalling 420 fits\n",
      "[CV 1/5] END criterion=gini, max_features=sqrt, n_estimators=100, oob_score=True, random_state=0;, score=0.776 total time=   0.5s\n",
      "[CV 2/5] END criterion=gini, max_features=sqrt, n_estimators=100, oob_score=True, random_state=0;, score=0.761 total time=   0.5s\n",
      "[CV 3/5] END criterion=gini, max_features=sqrt, n_estimators=100, oob_score=True, random_state=0;, score=0.754 total time=   0.5s\n",
      "[CV 4/5] END criterion=gini, max_features=sqrt, n_estimators=100, oob_score=True, random_state=0;, score=0.769 total time=   0.3s\n",
      "[CV 5/5] END criterion=gini, max_features=sqrt, n_estimators=100, oob_score=True, random_state=0;, score=0.746 total time=   0.3s\n",
      "[CV 1/5] END criterion=gini, max_features=sqrt, n_estimators=100, oob_score=True, random_state=3;, score=0.776 total time=   0.3s\n",
      "[CV 2/5] END criterion=gini, max_features=sqrt, n_estimators=100, oob_score=True, random_state=3;, score=0.776 total time=   0.3s\n",
      "[CV 3/5] END criterion=gini, max_features=sqrt, n_estimators=100, oob_score=True, random_state=3;, score=0.761 total time=   0.3s\n",
      "[CV 4/5] END criterion=gini, max_features=sqrt, n_estimators=100, oob_score=True, random_state=3;, score=0.746 total time=   0.3s\n",
      "[CV 5/5] END criterion=gini, max_features=sqrt, n_estimators=100, oob_score=True, random_state=3;, score=0.739 total time=   0.3s\n",
      "[CV 1/5] END criterion=gini, max_features=sqrt, n_estimators=100, oob_score=True, random_state=6;, score=0.784 total time=   0.3s\n",
      "[CV 2/5] END criterion=gini, max_features=sqrt, n_estimators=100, oob_score=True, random_state=6;, score=0.791 total time=   0.3s\n",
      "[CV 3/5] END criterion=gini, max_features=sqrt, n_estimators=100, oob_score=True, random_state=6;, score=0.754 total time=   0.3s\n",
      "[CV 4/5] END criterion=gini, max_features=sqrt, n_estimators=100, oob_score=True, random_state=6;, score=0.739 total time=   0.3s\n",
      "[CV 5/5] END criterion=gini, max_features=sqrt, n_estimators=100, oob_score=True, random_state=6;, score=0.761 total time=   0.3s\n",
      "[CV 1/5] END criterion=gini, max_features=sqrt, n_estimators=100, oob_score=True, random_state=9;, score=0.761 total time=   0.3s\n",
      "[CV 2/5] END criterion=gini, max_features=sqrt, n_estimators=100, oob_score=True, random_state=9;, score=0.799 total time=   0.3s\n",
      "[CV 3/5] END criterion=gini, max_features=sqrt, n_estimators=100, oob_score=True, random_state=9;, score=0.754 total time=   0.3s\n",
      "[CV 4/5] END criterion=gini, max_features=sqrt, n_estimators=100, oob_score=True, random_state=9;, score=0.776 total time=   0.3s\n",
      "[CV 5/5] END criterion=gini, max_features=sqrt, n_estimators=100, oob_score=True, random_state=9;, score=0.739 total time=   0.3s\n",
      "[CV 1/5] END criterion=gini, max_features=sqrt, n_estimators=100, oob_score=True, random_state=12;, score=0.761 total time=   0.3s\n",
      "[CV 2/5] END criterion=gini, max_features=sqrt, n_estimators=100, oob_score=True, random_state=12;, score=0.813 total time=   0.3s\n",
      "[CV 3/5] END criterion=gini, max_features=sqrt, n_estimators=100, oob_score=True, random_state=12;, score=0.761 total time=   0.3s\n",
      "[CV 4/5] END criterion=gini, max_features=sqrt, n_estimators=100, oob_score=True, random_state=12;, score=0.754 total time=   0.4s\n",
      "[CV 5/5] END criterion=gini, max_features=sqrt, n_estimators=100, oob_score=True, random_state=12;, score=0.746 total time=   0.3s\n",
      "[CV 1/5] END criterion=gini, max_features=sqrt, n_estimators=100, oob_score=True, random_state=15;, score=0.746 total time=   0.3s\n",
      "[CV 2/5] END criterion=gini, max_features=sqrt, n_estimators=100, oob_score=True, random_state=15;, score=0.791 total time=   0.3s\n",
      "[CV 3/5] END criterion=gini, max_features=sqrt, n_estimators=100, oob_score=True, random_state=15;, score=0.776 total time=   0.3s\n",
      "[CV 4/5] END criterion=gini, max_features=sqrt, n_estimators=100, oob_score=True, random_state=15;, score=0.776 total time=   0.3s\n",
      "[CV 5/5] END criterion=gini, max_features=sqrt, n_estimators=100, oob_score=True, random_state=15;, score=0.754 total time=   0.3s\n",
      "[CV 1/5] END criterion=gini, max_features=sqrt, n_estimators=100, oob_score=True, random_state=18;, score=0.776 total time=   0.3s\n",
      "[CV 2/5] END criterion=gini, max_features=sqrt, n_estimators=100, oob_score=True, random_state=18;, score=0.776 total time=   0.3s\n",
      "[CV 3/5] END criterion=gini, max_features=sqrt, n_estimators=100, oob_score=True, random_state=18;, score=0.791 total time=   0.3s\n",
      "[CV 4/5] END criterion=gini, max_features=sqrt, n_estimators=100, oob_score=True, random_state=18;, score=0.784 total time=   0.3s\n",
      "[CV 5/5] END criterion=gini, max_features=sqrt, n_estimators=100, oob_score=True, random_state=18;, score=0.754 total time=   0.3s\n",
      "[CV 1/5] END criterion=gini, max_features=sqrt, n_estimators=100, oob_score=True, random_state=21;, score=0.784 total time=   0.3s\n",
      "[CV 2/5] END criterion=gini, max_features=sqrt, n_estimators=100, oob_score=True, random_state=21;, score=0.799 total time=   0.3s\n",
      "[CV 3/5] END criterion=gini, max_features=sqrt, n_estimators=100, oob_score=True, random_state=21;, score=0.784 total time=   0.3s\n",
      "[CV 4/5] END criterion=gini, max_features=sqrt, n_estimators=100, oob_score=True, random_state=21;, score=0.754 total time=   0.3s\n",
      "[CV 5/5] END criterion=gini, max_features=sqrt, n_estimators=100, oob_score=True, random_state=21;, score=0.746 total time=   0.3s\n",
      "[CV 1/5] END criterion=gini, max_features=sqrt, n_estimators=100, oob_score=True, random_state=24;, score=0.769 total time=   0.3s\n",
      "[CV 2/5] END criterion=gini, max_features=sqrt, n_estimators=100, oob_score=True, random_state=24;, score=0.769 total time=   0.3s\n",
      "[CV 3/5] END criterion=gini, max_features=sqrt, n_estimators=100, oob_score=True, random_state=24;, score=0.799 total time=   0.3s\n",
      "[CV 4/5] END criterion=gini, max_features=sqrt, n_estimators=100, oob_score=True, random_state=24;, score=0.754 total time=   0.3s\n",
      "[CV 5/5] END criterion=gini, max_features=sqrt, n_estimators=100, oob_score=True, random_state=24;, score=0.739 total time=   0.3s\n",
      "[CV 1/5] END criterion=gini, max_features=sqrt, n_estimators=100, oob_score=True, random_state=27;, score=0.776 total time=   0.3s\n",
      "[CV 2/5] END criterion=gini, max_features=sqrt, n_estimators=100, oob_score=True, random_state=27;, score=0.776 total time=   0.3s\n",
      "[CV 3/5] END criterion=gini, max_features=sqrt, n_estimators=100, oob_score=True, random_state=27;, score=0.784 total time=   0.3s\n",
      "[CV 4/5] END criterion=gini, max_features=sqrt, n_estimators=100, oob_score=True, random_state=27;, score=0.761 total time=   0.3s\n",
      "[CV 5/5] END criterion=gini, max_features=sqrt, n_estimators=100, oob_score=True, random_state=27;, score=0.739 total time=   0.3s\n",
      "[CV 1/5] END criterion=gini, max_features=sqrt, n_estimators=100, oob_score=True, random_state=30;, score=0.784 total time=   0.3s\n",
      "[CV 2/5] END criterion=gini, max_features=sqrt, n_estimators=100, oob_score=True, random_state=30;, score=0.813 total time=   0.3s\n",
      "[CV 3/5] END criterion=gini, max_features=sqrt, n_estimators=100, oob_score=True, random_state=30;, score=0.739 total time=   0.3s\n",
      "[CV 4/5] END criterion=gini, max_features=sqrt, n_estimators=100, oob_score=True, random_state=30;, score=0.761 total time=   0.3s\n",
      "[CV 5/5] END criterion=gini, max_features=sqrt, n_estimators=100, oob_score=True, random_state=30;, score=0.739 total time=   0.2s\n",
      "[CV 1/5] END criterion=gini, max_features=sqrt, n_estimators=100, oob_score=True, random_state=33;, score=0.769 total time=   0.2s\n",
      "[CV 2/5] END criterion=gini, max_features=sqrt, n_estimators=100, oob_score=True, random_state=33;, score=0.776 total time=   0.2s\n",
      "[CV 3/5] END criterion=gini, max_features=sqrt, n_estimators=100, oob_score=True, random_state=33;, score=0.761 total time=   0.2s\n",
      "[CV 4/5] END criterion=gini, max_features=sqrt, n_estimators=100, oob_score=True, random_state=33;, score=0.776 total time=   0.2s\n",
      "[CV 5/5] END criterion=gini, max_features=sqrt, n_estimators=100, oob_score=True, random_state=33;, score=0.746 total time=   0.2s\n",
      "[CV 1/5] END criterion=gini, max_features=sqrt, n_estimators=100, oob_score=True, random_state=36;, score=0.776 total time=   0.2s\n",
      "[CV 2/5] END criterion=gini, max_features=sqrt, n_estimators=100, oob_score=True, random_state=36;, score=0.799 total time=   0.3s\n",
      "[CV 3/5] END criterion=gini, max_features=sqrt, n_estimators=100, oob_score=True, random_state=36;, score=0.761 total time=   0.2s\n",
      "[CV 4/5] END criterion=gini, max_features=sqrt, n_estimators=100, oob_score=True, random_state=36;, score=0.784 total time=   0.2s\n",
      "[CV 5/5] END criterion=gini, max_features=sqrt, n_estimators=100, oob_score=True, random_state=36;, score=0.754 total time=   0.3s\n",
      "[CV 1/5] END criterion=gini, max_features=sqrt, n_estimators=100, oob_score=True, random_state=39;, score=0.769 total time=   0.2s\n",
      "[CV 2/5] END criterion=gini, max_features=sqrt, n_estimators=100, oob_score=True, random_state=39;, score=0.776 total time=   0.3s\n",
      "[CV 3/5] END criterion=gini, max_features=sqrt, n_estimators=100, oob_score=True, random_state=39;, score=0.776 total time=   0.2s\n",
      "[CV 4/5] END criterion=gini, max_features=sqrt, n_estimators=100, oob_score=True, random_state=39;, score=0.761 total time=   0.3s\n",
      "[CV 5/5] END criterion=gini, max_features=sqrt, n_estimators=100, oob_score=True, random_state=39;, score=0.731 total time=   0.2s\n",
      "[CV 1/5] END criterion=gini, max_features=sqrt, n_estimators=50, oob_score=True, random_state=0;, score=0.761 total time=   0.1s\n",
      "[CV 2/5] END criterion=gini, max_features=sqrt, n_estimators=50, oob_score=True, random_state=0;, score=0.776 total time=   0.1s\n",
      "[CV 3/5] END criterion=gini, max_features=sqrt, n_estimators=50, oob_score=True, random_state=0;, score=0.769 total time=   0.1s\n",
      "[CV 4/5] END criterion=gini, max_features=sqrt, n_estimators=50, oob_score=True, random_state=0;, score=0.784 total time=   0.1s\n",
      "[CV 5/5] END criterion=gini, max_features=sqrt, n_estimators=50, oob_score=True, random_state=0;, score=0.739 total time=   0.1s\n",
      "[CV 1/5] END criterion=gini, max_features=sqrt, n_estimators=50, oob_score=True, random_state=3;, score=0.761 total time=   0.1s\n",
      "[CV 2/5] END criterion=gini, max_features=sqrt, n_estimators=50, oob_score=True, random_state=3;, score=0.791 total time=   0.1s\n",
      "[CV 3/5] END criterion=gini, max_features=sqrt, n_estimators=50, oob_score=True, random_state=3;, score=0.784 total time=   0.1s\n",
      "[CV 4/5] END criterion=gini, max_features=sqrt, n_estimators=50, oob_score=True, random_state=3;, score=0.754 total time=   0.1s\n",
      "[CV 5/5] END criterion=gini, max_features=sqrt, n_estimators=50, oob_score=True, random_state=3;, score=0.739 total time=   0.1s\n",
      "[CV 1/5] END criterion=gini, max_features=sqrt, n_estimators=50, oob_score=True, random_state=6;, score=0.769 total time=   0.1s\n",
      "[CV 2/5] END criterion=gini, max_features=sqrt, n_estimators=50, oob_score=True, random_state=6;, score=0.791 total time=   0.1s\n",
      "[CV 3/5] END criterion=gini, max_features=sqrt, n_estimators=50, oob_score=True, random_state=6;, score=0.746 total time=   0.1s\n",
      "[CV 4/5] END criterion=gini, max_features=sqrt, n_estimators=50, oob_score=True, random_state=6;, score=0.761 total time=   0.1s\n",
      "[CV 5/5] END criterion=gini, max_features=sqrt, n_estimators=50, oob_score=True, random_state=6;, score=0.776 total time=   0.1s\n",
      "[CV 1/5] END criterion=gini, max_features=sqrt, n_estimators=50, oob_score=True, random_state=9;, score=0.769 total time=   0.1s\n",
      "[CV 2/5] END criterion=gini, max_features=sqrt, n_estimators=50, oob_score=True, random_state=9;, score=0.799 total time=   0.1s\n",
      "[CV 3/5] END criterion=gini, max_features=sqrt, n_estimators=50, oob_score=True, random_state=9;, score=0.799 total time=   0.1s\n",
      "[CV 4/5] END criterion=gini, max_features=sqrt, n_estimators=50, oob_score=True, random_state=9;, score=0.769 total time=   0.1s\n",
      "[CV 5/5] END criterion=gini, max_features=sqrt, n_estimators=50, oob_score=True, random_state=9;, score=0.739 total time=   0.1s\n",
      "[CV 1/5] END criterion=gini, max_features=sqrt, n_estimators=50, oob_score=True, random_state=12;, score=0.769 total time=   0.1s\n",
      "[CV 2/5] END criterion=gini, max_features=sqrt, n_estimators=50, oob_score=True, random_state=12;, score=0.791 total time=   0.1s\n",
      "[CV 3/5] END criterion=gini, max_features=sqrt, n_estimators=50, oob_score=True, random_state=12;, score=0.784 total time=   0.1s\n",
      "[CV 4/5] END criterion=gini, max_features=sqrt, n_estimators=50, oob_score=True, random_state=12;, score=0.739 total time=   0.1s\n",
      "[CV 5/5] END criterion=gini, max_features=sqrt, n_estimators=50, oob_score=True, random_state=12;, score=0.761 total time=   0.1s\n",
      "[CV 1/5] END criterion=gini, max_features=sqrt, n_estimators=50, oob_score=True, random_state=15;, score=0.761 total time=   0.1s\n",
      "[CV 2/5] END criterion=gini, max_features=sqrt, n_estimators=50, oob_score=True, random_state=15;, score=0.784 total time=   0.1s\n",
      "[CV 3/5] END criterion=gini, max_features=sqrt, n_estimators=50, oob_score=True, random_state=15;, score=0.776 total time=   0.1s\n",
      "[CV 4/5] END criterion=gini, max_features=sqrt, n_estimators=50, oob_score=True, random_state=15;, score=0.754 total time=   0.1s\n",
      "[CV 5/5] END criterion=gini, max_features=sqrt, n_estimators=50, oob_score=True, random_state=15;, score=0.739 total time=   0.1s\n",
      "[CV 1/5] END criterion=gini, max_features=sqrt, n_estimators=50, oob_score=True, random_state=18;, score=0.769 total time=   0.1s\n",
      "[CV 2/5] END criterion=gini, max_features=sqrt, n_estimators=50, oob_score=True, random_state=18;, score=0.769 total time=   0.2s\n",
      "[CV 3/5] END criterion=gini, max_features=sqrt, n_estimators=50, oob_score=True, random_state=18;, score=0.799 total time=   0.1s\n",
      "[CV 4/5] END criterion=gini, max_features=sqrt, n_estimators=50, oob_score=True, random_state=18;, score=0.769 total time=   0.1s\n",
      "[CV 5/5] END criterion=gini, max_features=sqrt, n_estimators=50, oob_score=True, random_state=18;, score=0.769 total time=   0.1s\n",
      "[CV 1/5] END criterion=gini, max_features=sqrt, n_estimators=50, oob_score=True, random_state=21;, score=0.776 total time=   0.1s\n",
      "[CV 2/5] END criterion=gini, max_features=sqrt, n_estimators=50, oob_score=True, random_state=21;, score=0.784 total time=   0.1s\n",
      "[CV 3/5] END criterion=gini, max_features=sqrt, n_estimators=50, oob_score=True, random_state=21;, score=0.776 total time=   0.1s\n",
      "[CV 4/5] END criterion=gini, max_features=sqrt, n_estimators=50, oob_score=True, random_state=21;, score=0.731 total time=   0.1s\n",
      "[CV 5/5] END criterion=gini, max_features=sqrt, n_estimators=50, oob_score=True, random_state=21;, score=0.731 total time=   0.1s\n",
      "[CV 1/5] END criterion=gini, max_features=sqrt, n_estimators=50, oob_score=True, random_state=24;, score=0.776 total time=   0.1s\n",
      "[CV 2/5] END criterion=gini, max_features=sqrt, n_estimators=50, oob_score=True, random_state=24;, score=0.799 total time=   0.1s\n",
      "[CV 3/5] END criterion=gini, max_features=sqrt, n_estimators=50, oob_score=True, random_state=24;, score=0.784 total time=   0.1s\n",
      "[CV 4/5] END criterion=gini, max_features=sqrt, n_estimators=50, oob_score=True, random_state=24;, score=0.739 total time=   0.1s\n",
      "[CV 5/5] END criterion=gini, max_features=sqrt, n_estimators=50, oob_score=True, random_state=24;, score=0.754 total time=   0.1s\n",
      "[CV 1/5] END criterion=gini, max_features=sqrt, n_estimators=50, oob_score=True, random_state=27;, score=0.791 total time=   0.1s\n",
      "[CV 2/5] END criterion=gini, max_features=sqrt, n_estimators=50, oob_score=True, random_state=27;, score=0.784 total time=   0.1s\n",
      "[CV 3/5] END criterion=gini, max_features=sqrt, n_estimators=50, oob_score=True, random_state=27;, score=0.799 total time=   0.1s\n",
      "[CV 4/5] END criterion=gini, max_features=sqrt, n_estimators=50, oob_score=True, random_state=27;, score=0.776 total time=   0.1s\n",
      "[CV 5/5] END criterion=gini, max_features=sqrt, n_estimators=50, oob_score=True, random_state=27;, score=0.746 total time=   0.1s\n",
      "[CV 1/5] END criterion=gini, max_features=sqrt, n_estimators=50, oob_score=True, random_state=30;, score=0.776 total time=   0.1s\n",
      "[CV 2/5] END criterion=gini, max_features=sqrt, n_estimators=50, oob_score=True, random_state=30;, score=0.813 total time=   0.1s\n",
      "[CV 3/5] END criterion=gini, max_features=sqrt, n_estimators=50, oob_score=True, random_state=30;, score=0.754 total time=   0.2s\n",
      "[CV 4/5] END criterion=gini, max_features=sqrt, n_estimators=50, oob_score=True, random_state=30;, score=0.761 total time=   0.1s\n",
      "[CV 5/5] END criterion=gini, max_features=sqrt, n_estimators=50, oob_score=True, random_state=30;, score=0.731 total time=   0.1s\n",
      "[CV 1/5] END criterion=gini, max_features=sqrt, n_estimators=50, oob_score=True, random_state=33;, score=0.761 total time=   0.1s\n",
      "[CV 2/5] END criterion=gini, max_features=sqrt, n_estimators=50, oob_score=True, random_state=33;, score=0.776 total time=   0.1s\n",
      "[CV 3/5] END criterion=gini, max_features=sqrt, n_estimators=50, oob_score=True, random_state=33;, score=0.761 total time=   0.1s\n",
      "[CV 4/5] END criterion=gini, max_features=sqrt, n_estimators=50, oob_score=True, random_state=33;, score=0.776 total time=   0.1s\n",
      "[CV 5/5] END criterion=gini, max_features=sqrt, n_estimators=50, oob_score=True, random_state=33;, score=0.776 total time=   0.1s\n",
      "[CV 1/5] END criterion=gini, max_features=sqrt, n_estimators=50, oob_score=True, random_state=36;, score=0.776 total time=   0.1s\n",
      "[CV 2/5] END criterion=gini, max_features=sqrt, n_estimators=50, oob_score=True, random_state=36;, score=0.799 total time=   0.1s\n",
      "[CV 3/5] END criterion=gini, max_features=sqrt, n_estimators=50, oob_score=True, random_state=36;, score=0.739 total time=   0.1s\n",
      "[CV 4/5] END criterion=gini, max_features=sqrt, n_estimators=50, oob_score=True, random_state=36;, score=0.769 total time=   0.1s\n",
      "[CV 5/5] END criterion=gini, max_features=sqrt, n_estimators=50, oob_score=True, random_state=36;, score=0.739 total time=   0.1s\n",
      "[CV 1/5] END criterion=gini, max_features=sqrt, n_estimators=50, oob_score=True, random_state=39;, score=0.761 total time=   0.1s\n",
      "[CV 2/5] END criterion=gini, max_features=sqrt, n_estimators=50, oob_score=True, random_state=39;, score=0.791 total time=   0.1s\n",
      "[CV 3/5] END criterion=gini, max_features=sqrt, n_estimators=50, oob_score=True, random_state=39;, score=0.746 total time=   0.1s\n",
      "[CV 4/5] END criterion=gini, max_features=sqrt, n_estimators=50, oob_score=True, random_state=39;, score=0.761 total time=   0.1s\n",
      "[CV 5/5] END criterion=gini, max_features=sqrt, n_estimators=50, oob_score=True, random_state=39;, score=0.724 total time=   0.1s\n",
      "[CV 1/5] END criterion=gini, max_features=sqrt, n_estimators=75, oob_score=True, random_state=0;, score=0.769 total time=   0.3s\n",
      "[CV 2/5] END criterion=gini, max_features=sqrt, n_estimators=75, oob_score=True, random_state=0;, score=0.761 total time=   0.3s\n",
      "[CV 3/5] END criterion=gini, max_features=sqrt, n_estimators=75, oob_score=True, random_state=0;, score=0.761 total time=   0.2s\n",
      "[CV 4/5] END criterion=gini, max_features=sqrt, n_estimators=75, oob_score=True, random_state=0;, score=0.761 total time=   0.3s\n",
      "[CV 5/5] END criterion=gini, max_features=sqrt, n_estimators=75, oob_score=True, random_state=0;, score=0.746 total time=   0.3s\n",
      "[CV 1/5] END criterion=gini, max_features=sqrt, n_estimators=75, oob_score=True, random_state=3;, score=0.769 total time=   0.3s\n",
      "[CV 2/5] END criterion=gini, max_features=sqrt, n_estimators=75, oob_score=True, random_state=3;, score=0.784 total time=   0.3s\n",
      "[CV 3/5] END criterion=gini, max_features=sqrt, n_estimators=75, oob_score=True, random_state=3;, score=0.799 total time=   0.3s\n",
      "[CV 4/5] END criterion=gini, max_features=sqrt, n_estimators=75, oob_score=True, random_state=3;, score=0.746 total time=   0.3s\n",
      "[CV 5/5] END criterion=gini, max_features=sqrt, n_estimators=75, oob_score=True, random_state=3;, score=0.739 total time=   0.3s\n",
      "[CV 1/5] END criterion=gini, max_features=sqrt, n_estimators=75, oob_score=True, random_state=6;, score=0.784 total time=   0.2s\n",
      "[CV 2/5] END criterion=gini, max_features=sqrt, n_estimators=75, oob_score=True, random_state=6;, score=0.784 total time=   0.2s\n",
      "[CV 3/5] END criterion=gini, max_features=sqrt, n_estimators=75, oob_score=True, random_state=6;, score=0.746 total time=   0.2s\n",
      "[CV 4/5] END criterion=gini, max_features=sqrt, n_estimators=75, oob_score=True, random_state=6;, score=0.754 total time=   0.2s\n",
      "[CV 5/5] END criterion=gini, max_features=sqrt, n_estimators=75, oob_score=True, random_state=6;, score=0.776 total time=   0.2s\n",
      "[CV 1/5] END criterion=gini, max_features=sqrt, n_estimators=75, oob_score=True, random_state=9;, score=0.769 total time=   0.2s\n",
      "[CV 2/5] END criterion=gini, max_features=sqrt, n_estimators=75, oob_score=True, random_state=9;, score=0.791 total time=   0.2s\n",
      "[CV 3/5] END criterion=gini, max_features=sqrt, n_estimators=75, oob_score=True, random_state=9;, score=0.761 total time=   0.2s\n",
      "[CV 4/5] END criterion=gini, max_features=sqrt, n_estimators=75, oob_score=True, random_state=9;, score=0.761 total time=   0.2s\n",
      "[CV 5/5] END criterion=gini, max_features=sqrt, n_estimators=75, oob_score=True, random_state=9;, score=0.739 total time=   0.2s\n",
      "[CV 1/5] END criterion=gini, max_features=sqrt, n_estimators=75, oob_score=True, random_state=12;, score=0.769 total time=   0.2s\n",
      "[CV 2/5] END criterion=gini, max_features=sqrt, n_estimators=75, oob_score=True, random_state=12;, score=0.806 total time=   0.2s\n",
      "[CV 3/5] END criterion=gini, max_features=sqrt, n_estimators=75, oob_score=True, random_state=12;, score=0.761 total time=   0.2s\n",
      "[CV 4/5] END criterion=gini, max_features=sqrt, n_estimators=75, oob_score=True, random_state=12;, score=0.746 total time=   0.2s\n",
      "[CV 5/5] END criterion=gini, max_features=sqrt, n_estimators=75, oob_score=True, random_state=12;, score=0.754 total time=   0.2s\n",
      "[CV 1/5] END criterion=gini, max_features=sqrt, n_estimators=75, oob_score=True, random_state=15;, score=0.761 total time=   0.2s\n",
      "[CV 2/5] END criterion=gini, max_features=sqrt, n_estimators=75, oob_score=True, random_state=15;, score=0.799 total time=   0.2s\n",
      "[CV 3/5] END criterion=gini, max_features=sqrt, n_estimators=75, oob_score=True, random_state=15;, score=0.769 total time=   0.2s\n",
      "[CV 4/5] END criterion=gini, max_features=sqrt, n_estimators=75, oob_score=True, random_state=15;, score=0.769 total time=   0.2s\n",
      "[CV 5/5] END criterion=gini, max_features=sqrt, n_estimators=75, oob_score=True, random_state=15;, score=0.739 total time=   0.2s\n",
      "[CV 1/5] END criterion=gini, max_features=sqrt, n_estimators=75, oob_score=True, random_state=18;, score=0.769 total time=   0.2s\n",
      "[CV 2/5] END criterion=gini, max_features=sqrt, n_estimators=75, oob_score=True, random_state=18;, score=0.776 total time=   0.2s\n",
      "[CV 3/5] END criterion=gini, max_features=sqrt, n_estimators=75, oob_score=True, random_state=18;, score=0.791 total time=   0.2s\n",
      "[CV 4/5] END criterion=gini, max_features=sqrt, n_estimators=75, oob_score=True, random_state=18;, score=0.784 total time=   0.2s\n",
      "[CV 5/5] END criterion=gini, max_features=sqrt, n_estimators=75, oob_score=True, random_state=18;, score=0.739 total time=   0.2s\n",
      "[CV 1/5] END criterion=gini, max_features=sqrt, n_estimators=75, oob_score=True, random_state=21;, score=0.776 total time=   0.2s\n",
      "[CV 2/5] END criterion=gini, max_features=sqrt, n_estimators=75, oob_score=True, random_state=21;, score=0.791 total time=   0.2s\n",
      "[CV 3/5] END criterion=gini, max_features=sqrt, n_estimators=75, oob_score=True, random_state=21;, score=0.806 total time=   0.2s\n",
      "[CV 4/5] END criterion=gini, max_features=sqrt, n_estimators=75, oob_score=True, random_state=21;, score=0.746 total time=   0.2s\n",
      "[CV 5/5] END criterion=gini, max_features=sqrt, n_estimators=75, oob_score=True, random_state=21;, score=0.739 total time=   0.2s\n",
      "[CV 1/5] END criterion=gini, max_features=sqrt, n_estimators=75, oob_score=True, random_state=24;, score=0.769 total time=   0.2s\n",
      "[CV 2/5] END criterion=gini, max_features=sqrt, n_estimators=75, oob_score=True, random_state=24;, score=0.769 total time=   0.2s\n",
      "[CV 3/5] END criterion=gini, max_features=sqrt, n_estimators=75, oob_score=True, random_state=24;, score=0.799 total time=   0.2s\n",
      "[CV 4/5] END criterion=gini, max_features=sqrt, n_estimators=75, oob_score=True, random_state=24;, score=0.746 total time=   0.2s\n",
      "[CV 5/5] END criterion=gini, max_features=sqrt, n_estimators=75, oob_score=True, random_state=24;, score=0.731 total time=   0.2s\n",
      "[CV 1/5] END criterion=gini, max_features=sqrt, n_estimators=75, oob_score=True, random_state=27;, score=0.769 total time=   0.3s\n",
      "[CV 2/5] END criterion=gini, max_features=sqrt, n_estimators=75, oob_score=True, random_state=27;, score=0.769 total time=   0.2s\n",
      "[CV 3/5] END criterion=gini, max_features=sqrt, n_estimators=75, oob_score=True, random_state=27;, score=0.799 total time=   0.2s\n",
      "[CV 4/5] END criterion=gini, max_features=sqrt, n_estimators=75, oob_score=True, random_state=27;, score=0.769 total time=   0.2s\n",
      "[CV 5/5] END criterion=gini, max_features=sqrt, n_estimators=75, oob_score=True, random_state=27;, score=0.739 total time=   0.2s\n",
      "[CV 1/5] END criterion=gini, max_features=sqrt, n_estimators=75, oob_score=True, random_state=30;, score=0.776 total time=   0.2s\n",
      "[CV 2/5] END criterion=gini, max_features=sqrt, n_estimators=75, oob_score=True, random_state=30;, score=0.806 total time=   0.2s\n",
      "[CV 3/5] END criterion=gini, max_features=sqrt, n_estimators=75, oob_score=True, random_state=30;, score=0.746 total time=   0.2s\n",
      "[CV 4/5] END criterion=gini, max_features=sqrt, n_estimators=75, oob_score=True, random_state=30;, score=0.761 total time=   0.2s\n",
      "[CV 5/5] END criterion=gini, max_features=sqrt, n_estimators=75, oob_score=True, random_state=30;, score=0.731 total time=   0.2s\n",
      "[CV 1/5] END criterion=gini, max_features=sqrt, n_estimators=75, oob_score=True, random_state=33;, score=0.769 total time=   0.2s\n",
      "[CV 2/5] END criterion=gini, max_features=sqrt, n_estimators=75, oob_score=True, random_state=33;, score=0.776 total time=   0.2s\n",
      "[CV 3/5] END criterion=gini, max_features=sqrt, n_estimators=75, oob_score=True, random_state=33;, score=0.754 total time=   0.2s\n",
      "[CV 4/5] END criterion=gini, max_features=sqrt, n_estimators=75, oob_score=True, random_state=33;, score=0.769 total time=   0.2s\n",
      "[CV 5/5] END criterion=gini, max_features=sqrt, n_estimators=75, oob_score=True, random_state=33;, score=0.739 total time=   0.2s\n",
      "[CV 1/5] END criterion=gini, max_features=sqrt, n_estimators=75, oob_score=True, random_state=36;, score=0.776 total time=   0.2s\n",
      "[CV 2/5] END criterion=gini, max_features=sqrt, n_estimators=75, oob_score=True, random_state=36;, score=0.799 total time=   0.2s\n",
      "[CV 3/5] END criterion=gini, max_features=sqrt, n_estimators=75, oob_score=True, random_state=36;, score=0.754 total time=   0.2s\n",
      "[CV 4/5] END criterion=gini, max_features=sqrt, n_estimators=75, oob_score=True, random_state=36;, score=0.776 total time=   0.2s\n",
      "[CV 5/5] END criterion=gini, max_features=sqrt, n_estimators=75, oob_score=True, random_state=36;, score=0.731 total time=   0.2s\n",
      "[CV 1/5] END criterion=gini, max_features=sqrt, n_estimators=75, oob_score=True, random_state=39;, score=0.769 total time=   0.2s\n",
      "[CV 2/5] END criterion=gini, max_features=sqrt, n_estimators=75, oob_score=True, random_state=39;, score=0.784 total time=   0.2s\n",
      "[CV 3/5] END criterion=gini, max_features=sqrt, n_estimators=75, oob_score=True, random_state=39;, score=0.739 total time=   0.2s\n",
      "[CV 4/5] END criterion=gini, max_features=sqrt, n_estimators=75, oob_score=True, random_state=39;, score=0.761 total time=   0.2s\n",
      "[CV 5/5] END criterion=gini, max_features=sqrt, n_estimators=75, oob_score=True, random_state=39;, score=0.724 total time=   0.2s\n",
      "[CV 1/5] END criterion=entropy, max_features=sqrt, n_estimators=100, oob_score=True, random_state=0;, score=0.769 total time=   0.3s\n",
      "[CV 2/5] END criterion=entropy, max_features=sqrt, n_estimators=100, oob_score=True, random_state=0;, score=0.761 total time=   0.3s\n",
      "[CV 3/5] END criterion=entropy, max_features=sqrt, n_estimators=100, oob_score=True, random_state=0;, score=0.769 total time=   0.3s\n",
      "[CV 4/5] END criterion=entropy, max_features=sqrt, n_estimators=100, oob_score=True, random_state=0;, score=0.761 total time=   0.3s\n",
      "[CV 5/5] END criterion=entropy, max_features=sqrt, n_estimators=100, oob_score=True, random_state=0;, score=0.754 total time=   0.3s\n",
      "[CV 1/5] END criterion=entropy, max_features=sqrt, n_estimators=100, oob_score=True, random_state=3;, score=0.776 total time=   0.3s\n",
      "[CV 2/5] END criterion=entropy, max_features=sqrt, n_estimators=100, oob_score=True, random_state=3;, score=0.791 total time=   0.3s\n",
      "[CV 3/5] END criterion=entropy, max_features=sqrt, n_estimators=100, oob_score=True, random_state=3;, score=0.746 total time=   0.3s\n",
      "[CV 4/5] END criterion=entropy, max_features=sqrt, n_estimators=100, oob_score=True, random_state=3;, score=0.769 total time=   0.3s\n",
      "[CV 5/5] END criterion=entropy, max_features=sqrt, n_estimators=100, oob_score=True, random_state=3;, score=0.754 total time=   0.3s\n",
      "[CV 1/5] END criterion=entropy, max_features=sqrt, n_estimators=100, oob_score=True, random_state=6;, score=0.769 total time=   0.3s\n",
      "[CV 2/5] END criterion=entropy, max_features=sqrt, n_estimators=100, oob_score=True, random_state=6;, score=0.791 total time=   0.3s\n",
      "[CV 3/5] END criterion=entropy, max_features=sqrt, n_estimators=100, oob_score=True, random_state=6;, score=0.761 total time=   0.4s\n",
      "[CV 4/5] END criterion=entropy, max_features=sqrt, n_estimators=100, oob_score=True, random_state=6;, score=0.776 total time=   0.4s\n",
      "[CV 5/5] END criterion=entropy, max_features=sqrt, n_estimators=100, oob_score=True, random_state=6;, score=0.724 total time=   0.4s\n",
      "[CV 1/5] END criterion=entropy, max_features=sqrt, n_estimators=100, oob_score=True, random_state=9;, score=0.776 total time=   0.4s\n",
      "[CV 2/5] END criterion=entropy, max_features=sqrt, n_estimators=100, oob_score=True, random_state=9;, score=0.746 total time=   0.4s\n",
      "[CV 3/5] END criterion=entropy, max_features=sqrt, n_estimators=100, oob_score=True, random_state=9;, score=0.799 total time=   0.4s\n",
      "[CV 4/5] END criterion=entropy, max_features=sqrt, n_estimators=100, oob_score=True, random_state=9;, score=0.776 total time=   0.4s\n",
      "[CV 5/5] END criterion=entropy, max_features=sqrt, n_estimators=100, oob_score=True, random_state=9;, score=0.731 total time=   0.3s\n",
      "[CV 1/5] END criterion=entropy, max_features=sqrt, n_estimators=100, oob_score=True, random_state=12;, score=0.769 total time=   0.3s\n",
      "[CV 2/5] END criterion=entropy, max_features=sqrt, n_estimators=100, oob_score=True, random_state=12;, score=0.769 total time=   0.3s\n",
      "[CV 3/5] END criterion=entropy, max_features=sqrt, n_estimators=100, oob_score=True, random_state=12;, score=0.791 total time=   0.3s\n",
      "[CV 4/5] END criterion=entropy, max_features=sqrt, n_estimators=100, oob_score=True, random_state=12;, score=0.754 total time=   0.3s\n",
      "[CV 5/5] END criterion=entropy, max_features=sqrt, n_estimators=100, oob_score=True, random_state=12;, score=0.754 total time=   0.4s\n",
      "[CV 1/5] END criterion=entropy, max_features=sqrt, n_estimators=100, oob_score=True, random_state=15;, score=0.761 total time=   0.4s\n",
      "[CV 2/5] END criterion=entropy, max_features=sqrt, n_estimators=100, oob_score=True, random_state=15;, score=0.776 total time=   0.4s\n",
      "[CV 3/5] END criterion=entropy, max_features=sqrt, n_estimators=100, oob_score=True, random_state=15;, score=0.754 total time=   0.4s\n",
      "[CV 4/5] END criterion=entropy, max_features=sqrt, n_estimators=100, oob_score=True, random_state=15;, score=0.769 total time=   0.4s\n",
      "[CV 5/5] END criterion=entropy, max_features=sqrt, n_estimators=100, oob_score=True, random_state=15;, score=0.739 total time=   0.4s\n",
      "[CV 1/5] END criterion=entropy, max_features=sqrt, n_estimators=100, oob_score=True, random_state=18;, score=0.769 total time=   0.4s\n",
      "[CV 2/5] END criterion=entropy, max_features=sqrt, n_estimators=100, oob_score=True, random_state=18;, score=0.791 total time=   0.4s\n",
      "[CV 3/5] END criterion=entropy, max_features=sqrt, n_estimators=100, oob_score=True, random_state=18;, score=0.739 total time=   0.4s\n",
      "[CV 4/5] END criterion=entropy, max_features=sqrt, n_estimators=100, oob_score=True, random_state=18;, score=0.776 total time=   0.3s\n",
      "[CV 5/5] END criterion=entropy, max_features=sqrt, n_estimators=100, oob_score=True, random_state=18;, score=0.761 total time=   0.3s\n",
      "[CV 1/5] END criterion=entropy, max_features=sqrt, n_estimators=100, oob_score=True, random_state=21;, score=0.761 total time=   0.4s\n",
      "[CV 2/5] END criterion=entropy, max_features=sqrt, n_estimators=100, oob_score=True, random_state=21;, score=0.776 total time=   0.3s\n",
      "[CV 3/5] END criterion=entropy, max_features=sqrt, n_estimators=100, oob_score=True, random_state=21;, score=0.769 total time=   0.4s\n",
      "[CV 4/5] END criterion=entropy, max_features=sqrt, n_estimators=100, oob_score=True, random_state=21;, score=0.761 total time=   0.3s\n",
      "[CV 5/5] END criterion=entropy, max_features=sqrt, n_estimators=100, oob_score=True, random_state=21;, score=0.754 total time=   0.4s\n",
      "[CV 1/5] END criterion=entropy, max_features=sqrt, n_estimators=100, oob_score=True, random_state=24;, score=0.776 total time=   0.4s\n",
      "[CV 2/5] END criterion=entropy, max_features=sqrt, n_estimators=100, oob_score=True, random_state=24;, score=0.776 total time=   0.3s\n",
      "[CV 3/5] END criterion=entropy, max_features=sqrt, n_estimators=100, oob_score=True, random_state=24;, score=0.776 total time=   0.3s\n",
      "[CV 4/5] END criterion=entropy, max_features=sqrt, n_estimators=100, oob_score=True, random_state=24;, score=0.776 total time=   0.3s\n",
      "[CV 5/5] END criterion=entropy, max_features=sqrt, n_estimators=100, oob_score=True, random_state=24;, score=0.731 total time=   0.3s\n",
      "[CV 1/5] END criterion=entropy, max_features=sqrt, n_estimators=100, oob_score=True, random_state=27;, score=0.769 total time=   0.3s\n",
      "[CV 2/5] END criterion=entropy, max_features=sqrt, n_estimators=100, oob_score=True, random_state=27;, score=0.761 total time=   0.3s\n",
      "[CV 3/5] END criterion=entropy, max_features=sqrt, n_estimators=100, oob_score=True, random_state=27;, score=0.776 total time=   0.3s\n",
      "[CV 4/5] END criterion=entropy, max_features=sqrt, n_estimators=100, oob_score=True, random_state=27;, score=0.776 total time=   0.3s\n",
      "[CV 5/5] END criterion=entropy, max_features=sqrt, n_estimators=100, oob_score=True, random_state=27;, score=0.761 total time=   0.3s\n",
      "[CV 1/5] END criterion=entropy, max_features=sqrt, n_estimators=100, oob_score=True, random_state=30;, score=0.769 total time=   0.3s\n",
      "[CV 2/5] END criterion=entropy, max_features=sqrt, n_estimators=100, oob_score=True, random_state=30;, score=0.799 total time=   0.3s\n",
      "[CV 3/5] END criterion=entropy, max_features=sqrt, n_estimators=100, oob_score=True, random_state=30;, score=0.754 total time=   0.3s\n",
      "[CV 4/5] END criterion=entropy, max_features=sqrt, n_estimators=100, oob_score=True, random_state=30;, score=0.784 total time=   0.3s\n",
      "[CV 5/5] END criterion=entropy, max_features=sqrt, n_estimators=100, oob_score=True, random_state=30;, score=0.746 total time=   0.3s\n",
      "[CV 1/5] END criterion=entropy, max_features=sqrt, n_estimators=100, oob_score=True, random_state=33;, score=0.761 total time=   0.3s\n",
      "[CV 2/5] END criterion=entropy, max_features=sqrt, n_estimators=100, oob_score=True, random_state=33;, score=0.776 total time=   0.3s\n",
      "[CV 3/5] END criterion=entropy, max_features=sqrt, n_estimators=100, oob_score=True, random_state=33;, score=0.754 total time=   0.3s\n",
      "[CV 4/5] END criterion=entropy, max_features=sqrt, n_estimators=100, oob_score=True, random_state=33;, score=0.761 total time=   0.3s\n",
      "[CV 5/5] END criterion=entropy, max_features=sqrt, n_estimators=100, oob_score=True, random_state=33;, score=0.739 total time=   0.3s\n",
      "[CV 1/5] END criterion=entropy, max_features=sqrt, n_estimators=100, oob_score=True, random_state=36;, score=0.776 total time=   0.3s\n",
      "[CV 2/5] END criterion=entropy, max_features=sqrt, n_estimators=100, oob_score=True, random_state=36;, score=0.784 total time=   0.3s\n",
      "[CV 3/5] END criterion=entropy, max_features=sqrt, n_estimators=100, oob_score=True, random_state=36;, score=0.784 total time=   0.3s\n",
      "[CV 4/5] END criterion=entropy, max_features=sqrt, n_estimators=100, oob_score=True, random_state=36;, score=0.776 total time=   0.3s\n",
      "[CV 5/5] END criterion=entropy, max_features=sqrt, n_estimators=100, oob_score=True, random_state=36;, score=0.746 total time=   0.3s\n",
      "[CV 1/5] END criterion=entropy, max_features=sqrt, n_estimators=100, oob_score=True, random_state=39;, score=0.776 total time=   0.3s\n",
      "[CV 2/5] END criterion=entropy, max_features=sqrt, n_estimators=100, oob_score=True, random_state=39;, score=0.776 total time=   0.3s\n",
      "[CV 3/5] END criterion=entropy, max_features=sqrt, n_estimators=100, oob_score=True, random_state=39;, score=0.769 total time=   0.3s\n",
      "[CV 4/5] END criterion=entropy, max_features=sqrt, n_estimators=100, oob_score=True, random_state=39;, score=0.746 total time=   0.3s\n",
      "[CV 5/5] END criterion=entropy, max_features=sqrt, n_estimators=100, oob_score=True, random_state=39;, score=0.739 total time=   0.3s\n",
      "[CV 1/5] END criterion=entropy, max_features=sqrt, n_estimators=50, oob_score=True, random_state=0;, score=0.754 total time=   0.1s\n",
      "[CV 2/5] END criterion=entropy, max_features=sqrt, n_estimators=50, oob_score=True, random_state=0;, score=0.776 total time=   0.1s\n",
      "[CV 3/5] END criterion=entropy, max_features=sqrt, n_estimators=50, oob_score=True, random_state=0;, score=0.791 total time=   0.1s\n",
      "[CV 4/5] END criterion=entropy, max_features=sqrt, n_estimators=50, oob_score=True, random_state=0;, score=0.754 total time=   0.1s\n",
      "[CV 5/5] END criterion=entropy, max_features=sqrt, n_estimators=50, oob_score=True, random_state=0;, score=0.761 total time=   0.1s\n",
      "[CV 1/5] END criterion=entropy, max_features=sqrt, n_estimators=50, oob_score=True, random_state=3;, score=0.776 total time=   0.1s\n",
      "[CV 2/5] END criterion=entropy, max_features=sqrt, n_estimators=50, oob_score=True, random_state=3;, score=0.769 total time=   0.1s\n",
      "[CV 3/5] END criterion=entropy, max_features=sqrt, n_estimators=50, oob_score=True, random_state=3;, score=0.776 total time=   0.1s\n",
      "[CV 4/5] END criterion=entropy, max_features=sqrt, n_estimators=50, oob_score=True, random_state=3;, score=0.776 total time=   0.1s\n",
      "[CV 5/5] END criterion=entropy, max_features=sqrt, n_estimators=50, oob_score=True, random_state=3;, score=0.754 total time=   0.1s\n",
      "[CV 1/5] END criterion=entropy, max_features=sqrt, n_estimators=50, oob_score=True, random_state=6;, score=0.769 total time=   0.1s\n",
      "[CV 2/5] END criterion=entropy, max_features=sqrt, n_estimators=50, oob_score=True, random_state=6;, score=0.761 total time=   0.1s\n",
      "[CV 3/5] END criterion=entropy, max_features=sqrt, n_estimators=50, oob_score=True, random_state=6;, score=0.731 total time=   0.1s\n",
      "[CV 4/5] END criterion=entropy, max_features=sqrt, n_estimators=50, oob_score=True, random_state=6;, score=0.791 total time=   0.1s\n",
      "[CV 5/5] END criterion=entropy, max_features=sqrt, n_estimators=50, oob_score=True, random_state=6;, score=0.724 total time=   0.1s\n",
      "[CV 1/5] END criterion=entropy, max_features=sqrt, n_estimators=50, oob_score=True, random_state=9;, score=0.754 total time=   0.1s\n",
      "[CV 2/5] END criterion=entropy, max_features=sqrt, n_estimators=50, oob_score=True, random_state=9;, score=0.746 total time=   0.1s\n",
      "[CV 3/5] END criterion=entropy, max_features=sqrt, n_estimators=50, oob_score=True, random_state=9;, score=0.806 total time=   0.1s\n",
      "[CV 4/5] END criterion=entropy, max_features=sqrt, n_estimators=50, oob_score=True, random_state=9;, score=0.769 total time=   0.1s\n",
      "[CV 5/5] END criterion=entropy, max_features=sqrt, n_estimators=50, oob_score=True, random_state=9;, score=0.731 total time=   0.1s\n",
      "[CV 1/5] END criterion=entropy, max_features=sqrt, n_estimators=50, oob_score=True, random_state=12;, score=0.776 total time=   0.1s\n",
      "[CV 2/5] END criterion=entropy, max_features=sqrt, n_estimators=50, oob_score=True, random_state=12;, score=0.776 total time=   0.1s\n",
      "[CV 3/5] END criterion=entropy, max_features=sqrt, n_estimators=50, oob_score=True, random_state=12;, score=0.806 total time=   0.1s\n",
      "[CV 4/5] END criterion=entropy, max_features=sqrt, n_estimators=50, oob_score=True, random_state=12;, score=0.776 total time=   0.1s\n",
      "[CV 5/5] END criterion=entropy, max_features=sqrt, n_estimators=50, oob_score=True, random_state=12;, score=0.769 total time=   0.1s\n",
      "[CV 1/5] END criterion=entropy, max_features=sqrt, n_estimators=50, oob_score=True, random_state=15;, score=0.761 total time=   0.1s\n",
      "[CV 2/5] END criterion=entropy, max_features=sqrt, n_estimators=50, oob_score=True, random_state=15;, score=0.784 total time=   0.1s\n",
      "[CV 3/5] END criterion=entropy, max_features=sqrt, n_estimators=50, oob_score=True, random_state=15;, score=0.746 total time=   0.1s\n",
      "[CV 4/5] END criterion=entropy, max_features=sqrt, n_estimators=50, oob_score=True, random_state=15;, score=0.776 total time=   0.1s\n",
      "[CV 5/5] END criterion=entropy, max_features=sqrt, n_estimators=50, oob_score=True, random_state=15;, score=0.754 total time=   0.1s\n",
      "[CV 1/5] END criterion=entropy, max_features=sqrt, n_estimators=50, oob_score=True, random_state=18;, score=0.769 total time=   0.1s\n",
      "[CV 2/5] END criterion=entropy, max_features=sqrt, n_estimators=50, oob_score=True, random_state=18;, score=0.769 total time=   0.1s\n",
      "[CV 3/5] END criterion=entropy, max_features=sqrt, n_estimators=50, oob_score=True, random_state=18;, score=0.761 total time=   0.1s\n",
      "[CV 4/5] END criterion=entropy, max_features=sqrt, n_estimators=50, oob_score=True, random_state=18;, score=0.769 total time=   0.1s\n",
      "[CV 5/5] END criterion=entropy, max_features=sqrt, n_estimators=50, oob_score=True, random_state=18;, score=0.746 total time=   0.1s\n",
      "[CV 1/5] END criterion=entropy, max_features=sqrt, n_estimators=50, oob_score=True, random_state=21;, score=0.761 total time=   0.1s\n",
      "[CV 2/5] END criterion=entropy, max_features=sqrt, n_estimators=50, oob_score=True, random_state=21;, score=0.769 total time=   0.1s\n",
      "[CV 3/5] END criterion=entropy, max_features=sqrt, n_estimators=50, oob_score=True, random_state=21;, score=0.776 total time=   0.1s\n",
      "[CV 4/5] END criterion=entropy, max_features=sqrt, n_estimators=50, oob_score=True, random_state=21;, score=0.746 total time=   0.1s\n",
      "[CV 5/5] END criterion=entropy, max_features=sqrt, n_estimators=50, oob_score=True, random_state=21;, score=0.746 total time=   0.1s\n",
      "[CV 1/5] END criterion=entropy, max_features=sqrt, n_estimators=50, oob_score=True, random_state=24;, score=0.761 total time=   0.1s\n",
      "[CV 2/5] END criterion=entropy, max_features=sqrt, n_estimators=50, oob_score=True, random_state=24;, score=0.799 total time=   0.1s\n",
      "[CV 3/5] END criterion=entropy, max_features=sqrt, n_estimators=50, oob_score=True, random_state=24;, score=0.799 total time=   0.1s\n",
      "[CV 4/5] END criterion=entropy, max_features=sqrt, n_estimators=50, oob_score=True, random_state=24;, score=0.754 total time=   0.1s\n",
      "[CV 5/5] END criterion=entropy, max_features=sqrt, n_estimators=50, oob_score=True, random_state=24;, score=0.739 total time=   0.1s\n",
      "[CV 1/5] END criterion=entropy, max_features=sqrt, n_estimators=50, oob_score=True, random_state=27;, score=0.776 total time=   0.1s\n",
      "[CV 2/5] END criterion=entropy, max_features=sqrt, n_estimators=50, oob_score=True, random_state=27;, score=0.761 total time=   0.1s\n",
      "[CV 3/5] END criterion=entropy, max_features=sqrt, n_estimators=50, oob_score=True, random_state=27;, score=0.769 total time=   0.1s\n",
      "[CV 4/5] END criterion=entropy, max_features=sqrt, n_estimators=50, oob_score=True, random_state=27;, score=0.769 total time=   0.1s\n",
      "[CV 5/5] END criterion=entropy, max_features=sqrt, n_estimators=50, oob_score=True, random_state=27;, score=0.746 total time=   0.1s\n",
      "[CV 1/5] END criterion=entropy, max_features=sqrt, n_estimators=50, oob_score=True, random_state=30;, score=0.761 total time=   0.1s\n",
      "[CV 2/5] END criterion=entropy, max_features=sqrt, n_estimators=50, oob_score=True, random_state=30;, score=0.769 total time=   0.1s\n",
      "[CV 3/5] END criterion=entropy, max_features=sqrt, n_estimators=50, oob_score=True, random_state=30;, score=0.776 total time=   0.2s\n",
      "[CV 4/5] END criterion=entropy, max_features=sqrt, n_estimators=50, oob_score=True, random_state=30;, score=0.769 total time=   0.1s\n",
      "[CV 5/5] END criterion=entropy, max_features=sqrt, n_estimators=50, oob_score=True, random_state=30;, score=0.731 total time=   0.1s\n",
      "[CV 1/5] END criterion=entropy, max_features=sqrt, n_estimators=50, oob_score=True, random_state=33;, score=0.761 total time=   0.1s\n",
      "[CV 2/5] END criterion=entropy, max_features=sqrt, n_estimators=50, oob_score=True, random_state=33;, score=0.776 total time=   0.1s\n",
      "[CV 3/5] END criterion=entropy, max_features=sqrt, n_estimators=50, oob_score=True, random_state=33;, score=0.754 total time=   0.1s\n",
      "[CV 4/5] END criterion=entropy, max_features=sqrt, n_estimators=50, oob_score=True, random_state=33;, score=0.776 total time=   0.1s\n",
      "[CV 5/5] END criterion=entropy, max_features=sqrt, n_estimators=50, oob_score=True, random_state=33;, score=0.739 total time=   0.1s\n",
      "[CV 1/5] END criterion=entropy, max_features=sqrt, n_estimators=50, oob_score=True, random_state=36;, score=0.784 total time=   0.1s\n",
      "[CV 2/5] END criterion=entropy, max_features=sqrt, n_estimators=50, oob_score=True, random_state=36;, score=0.769 total time=   0.1s\n",
      "[CV 3/5] END criterion=entropy, max_features=sqrt, n_estimators=50, oob_score=True, random_state=36;, score=0.754 total time=   0.1s\n",
      "[CV 4/5] END criterion=entropy, max_features=sqrt, n_estimators=50, oob_score=True, random_state=36;, score=0.761 total time=   0.1s\n",
      "[CV 5/5] END criterion=entropy, max_features=sqrt, n_estimators=50, oob_score=True, random_state=36;, score=0.731 total time=   0.1s\n",
      "[CV 1/5] END criterion=entropy, max_features=sqrt, n_estimators=50, oob_score=True, random_state=39;, score=0.769 total time=   0.1s\n",
      "[CV 2/5] END criterion=entropy, max_features=sqrt, n_estimators=50, oob_score=True, random_state=39;, score=0.769 total time=   0.1s\n",
      "[CV 3/5] END criterion=entropy, max_features=sqrt, n_estimators=50, oob_score=True, random_state=39;, score=0.754 total time=   0.1s\n",
      "[CV 4/5] END criterion=entropy, max_features=sqrt, n_estimators=50, oob_score=True, random_state=39;, score=0.746 total time=   0.1s\n",
      "[CV 5/5] END criterion=entropy, max_features=sqrt, n_estimators=50, oob_score=True, random_state=39;, score=0.761 total time=   0.2s\n",
      "[CV 1/5] END criterion=entropy, max_features=sqrt, n_estimators=75, oob_score=True, random_state=0;, score=0.761 total time=   0.2s\n",
      "[CV 2/5] END criterion=entropy, max_features=sqrt, n_estimators=75, oob_score=True, random_state=0;, score=0.761 total time=   0.2s\n",
      "[CV 3/5] END criterion=entropy, max_features=sqrt, n_estimators=75, oob_score=True, random_state=0;, score=0.776 total time=   0.3s\n",
      "[CV 4/5] END criterion=entropy, max_features=sqrt, n_estimators=75, oob_score=True, random_state=0;, score=0.746 total time=   0.3s\n",
      "[CV 5/5] END criterion=entropy, max_features=sqrt, n_estimators=75, oob_score=True, random_state=0;, score=0.761 total time=   0.3s\n",
      "[CV 1/5] END criterion=entropy, max_features=sqrt, n_estimators=75, oob_score=True, random_state=3;, score=0.776 total time=   0.2s\n",
      "[CV 2/5] END criterion=entropy, max_features=sqrt, n_estimators=75, oob_score=True, random_state=3;, score=0.784 total time=   0.2s\n",
      "[CV 3/5] END criterion=entropy, max_features=sqrt, n_estimators=75, oob_score=True, random_state=3;, score=0.754 total time=   0.2s\n",
      "[CV 4/5] END criterion=entropy, max_features=sqrt, n_estimators=75, oob_score=True, random_state=3;, score=0.791 total time=   0.2s\n",
      "[CV 5/5] END criterion=entropy, max_features=sqrt, n_estimators=75, oob_score=True, random_state=3;, score=0.761 total time=   0.2s\n",
      "[CV 1/5] END criterion=entropy, max_features=sqrt, n_estimators=75, oob_score=True, random_state=6;, score=0.769 total time=   0.2s\n",
      "[CV 2/5] END criterion=entropy, max_features=sqrt, n_estimators=75, oob_score=True, random_state=6;, score=0.784 total time=   0.2s\n",
      "[CV 3/5] END criterion=entropy, max_features=sqrt, n_estimators=75, oob_score=True, random_state=6;, score=0.724 total time=   0.2s\n",
      "[CV 4/5] END criterion=entropy, max_features=sqrt, n_estimators=75, oob_score=True, random_state=6;, score=0.769 total time=   0.2s\n",
      "[CV 5/5] END criterion=entropy, max_features=sqrt, n_estimators=75, oob_score=True, random_state=6;, score=0.739 total time=   0.2s\n",
      "[CV 1/5] END criterion=entropy, max_features=sqrt, n_estimators=75, oob_score=True, random_state=9;, score=0.784 total time=   0.2s\n",
      "[CV 2/5] END criterion=entropy, max_features=sqrt, n_estimators=75, oob_score=True, random_state=9;, score=0.746 total time=   0.2s\n",
      "[CV 3/5] END criterion=entropy, max_features=sqrt, n_estimators=75, oob_score=True, random_state=9;, score=0.806 total time=   0.2s\n",
      "[CV 4/5] END criterion=entropy, max_features=sqrt, n_estimators=75, oob_score=True, random_state=9;, score=0.784 total time=   0.2s\n",
      "[CV 5/5] END criterion=entropy, max_features=sqrt, n_estimators=75, oob_score=True, random_state=9;, score=0.754 total time=   0.2s\n",
      "[CV 1/5] END criterion=entropy, max_features=sqrt, n_estimators=75, oob_score=True, random_state=12;, score=0.769 total time=   0.2s\n",
      "[CV 2/5] END criterion=entropy, max_features=sqrt, n_estimators=75, oob_score=True, random_state=12;, score=0.769 total time=   0.2s\n",
      "[CV 3/5] END criterion=entropy, max_features=sqrt, n_estimators=75, oob_score=True, random_state=12;, score=0.791 total time=   0.2s\n",
      "[CV 4/5] END criterion=entropy, max_features=sqrt, n_estimators=75, oob_score=True, random_state=12;, score=0.784 total time=   0.2s\n",
      "[CV 5/5] END criterion=entropy, max_features=sqrt, n_estimators=75, oob_score=True, random_state=12;, score=0.739 total time=   0.2s\n",
      "[CV 1/5] END criterion=entropy, max_features=sqrt, n_estimators=75, oob_score=True, random_state=15;, score=0.769 total time=   0.2s\n",
      "[CV 2/5] END criterion=entropy, max_features=sqrt, n_estimators=75, oob_score=True, random_state=15;, score=0.776 total time=   0.2s\n",
      "[CV 3/5] END criterion=entropy, max_features=sqrt, n_estimators=75, oob_score=True, random_state=15;, score=0.754 total time=   0.2s\n",
      "[CV 4/5] END criterion=entropy, max_features=sqrt, n_estimators=75, oob_score=True, random_state=15;, score=0.754 total time=   0.2s\n",
      "[CV 5/5] END criterion=entropy, max_features=sqrt, n_estimators=75, oob_score=True, random_state=15;, score=0.746 total time=   0.2s\n",
      "[CV 1/5] END criterion=entropy, max_features=sqrt, n_estimators=75, oob_score=True, random_state=18;, score=0.769 total time=   0.3s\n",
      "[CV 2/5] END criterion=entropy, max_features=sqrt, n_estimators=75, oob_score=True, random_state=18;, score=0.791 total time=   0.2s\n",
      "[CV 3/5] END criterion=entropy, max_features=sqrt, n_estimators=75, oob_score=True, random_state=18;, score=0.761 total time=   0.2s\n",
      "[CV 4/5] END criterion=entropy, max_features=sqrt, n_estimators=75, oob_score=True, random_state=18;, score=0.754 total time=   0.2s\n",
      "[CV 5/5] END criterion=entropy, max_features=sqrt, n_estimators=75, oob_score=True, random_state=18;, score=0.761 total time=   0.2s\n",
      "[CV 1/5] END criterion=entropy, max_features=sqrt, n_estimators=75, oob_score=True, random_state=21;, score=0.754 total time=   0.2s\n",
      "[CV 2/5] END criterion=entropy, max_features=sqrt, n_estimators=75, oob_score=True, random_state=21;, score=0.784 total time=   0.2s\n",
      "[CV 3/5] END criterion=entropy, max_features=sqrt, n_estimators=75, oob_score=True, random_state=21;, score=0.739 total time=   0.2s\n",
      "[CV 4/5] END criterion=entropy, max_features=sqrt, n_estimators=75, oob_score=True, random_state=21;, score=0.761 total time=   0.2s\n",
      "[CV 5/5] END criterion=entropy, max_features=sqrt, n_estimators=75, oob_score=True, random_state=21;, score=0.731 total time=   0.2s\n",
      "[CV 1/5] END criterion=entropy, max_features=sqrt, n_estimators=75, oob_score=True, random_state=24;, score=0.776 total time=   0.4s\n",
      "[CV 2/5] END criterion=entropy, max_features=sqrt, n_estimators=75, oob_score=True, random_state=24;, score=0.799 total time=   0.3s\n",
      "[CV 3/5] END criterion=entropy, max_features=sqrt, n_estimators=75, oob_score=True, random_state=24;, score=0.769 total time=   0.2s\n",
      "[CV 4/5] END criterion=entropy, max_features=sqrt, n_estimators=75, oob_score=True, random_state=24;, score=0.769 total time=   0.2s\n",
      "[CV 5/5] END criterion=entropy, max_features=sqrt, n_estimators=75, oob_score=True, random_state=24;, score=0.724 total time=   0.3s\n",
      "[CV 1/5] END criterion=entropy, max_features=sqrt, n_estimators=75, oob_score=True, random_state=27;, score=0.776 total time=   0.2s\n",
      "[CV 2/5] END criterion=entropy, max_features=sqrt, n_estimators=75, oob_score=True, random_state=27;, score=0.761 total time=   0.2s\n",
      "[CV 3/5] END criterion=entropy, max_features=sqrt, n_estimators=75, oob_score=True, random_state=27;, score=0.769 total time=   0.2s\n",
      "[CV 4/5] END criterion=entropy, max_features=sqrt, n_estimators=75, oob_score=True, random_state=27;, score=0.784 total time=   0.2s\n",
      "[CV 5/5] END criterion=entropy, max_features=sqrt, n_estimators=75, oob_score=True, random_state=27;, score=0.769 total time=   0.2s\n",
      "[CV 1/5] END criterion=entropy, max_features=sqrt, n_estimators=75, oob_score=True, random_state=30;, score=0.769 total time=   0.2s\n",
      "[CV 2/5] END criterion=entropy, max_features=sqrt, n_estimators=75, oob_score=True, random_state=30;, score=0.784 total time=   0.2s\n",
      "[CV 3/5] END criterion=entropy, max_features=sqrt, n_estimators=75, oob_score=True, random_state=30;, score=0.761 total time=   0.2s\n",
      "[CV 4/5] END criterion=entropy, max_features=sqrt, n_estimators=75, oob_score=True, random_state=30;, score=0.791 total time=   0.2s\n",
      "[CV 5/5] END criterion=entropy, max_features=sqrt, n_estimators=75, oob_score=True, random_state=30;, score=0.731 total time=   0.2s\n",
      "[CV 1/5] END criterion=entropy, max_features=sqrt, n_estimators=75, oob_score=True, random_state=33;, score=0.761 total time=   0.2s\n",
      "[CV 2/5] END criterion=entropy, max_features=sqrt, n_estimators=75, oob_score=True, random_state=33;, score=0.776 total time=   0.2s\n",
      "[CV 3/5] END criterion=entropy, max_features=sqrt, n_estimators=75, oob_score=True, random_state=33;, score=0.769 total time=   0.2s\n",
      "[CV 4/5] END criterion=entropy, max_features=sqrt, n_estimators=75, oob_score=True, random_state=33;, score=0.776 total time=   0.2s\n",
      "[CV 5/5] END criterion=entropy, max_features=sqrt, n_estimators=75, oob_score=True, random_state=33;, score=0.746 total time=   0.2s\n",
      "[CV 1/5] END criterion=entropy, max_features=sqrt, n_estimators=75, oob_score=True, random_state=36;, score=0.769 total time=   0.2s\n",
      "[CV 2/5] END criterion=entropy, max_features=sqrt, n_estimators=75, oob_score=True, random_state=36;, score=0.784 total time=   0.3s\n",
      "[CV 3/5] END criterion=entropy, max_features=sqrt, n_estimators=75, oob_score=True, random_state=36;, score=0.769 total time=   0.2s\n",
      "[CV 4/5] END criterion=entropy, max_features=sqrt, n_estimators=75, oob_score=True, random_state=36;, score=0.776 total time=   0.2s\n",
      "[CV 5/5] END criterion=entropy, max_features=sqrt, n_estimators=75, oob_score=True, random_state=36;, score=0.754 total time=   0.2s\n",
      "[CV 1/5] END criterion=entropy, max_features=sqrt, n_estimators=75, oob_score=True, random_state=39;, score=0.769 total time=   0.2s\n",
      "[CV 2/5] END criterion=entropy, max_features=sqrt, n_estimators=75, oob_score=True, random_state=39;, score=0.799 total time=   0.3s\n",
      "[CV 3/5] END criterion=entropy, max_features=sqrt, n_estimators=75, oob_score=True, random_state=39;, score=0.754 total time=   0.2s\n",
      "[CV 4/5] END criterion=entropy, max_features=sqrt, n_estimators=75, oob_score=True, random_state=39;, score=0.754 total time=   0.2s\n",
      "[CV 5/5] END criterion=entropy, max_features=sqrt, n_estimators=75, oob_score=True, random_state=39;, score=0.746 total time=   0.2s\n"
     ]
    },
    {
     "data": {
      "text/plain": [
       "{'criterion': 'entropy',\n",
       " 'max_features': 'sqrt',\n",
       " 'n_estimators': 50,\n",
       " 'oob_score': True,\n",
       " 'random_state': 12}"
      ]
     },
     "execution_count": 33,
     "metadata": {},
     "output_type": "execute_result"
    }
   ],
   "source": [
    "param_grid1= {\"n_estimators\":[100,50,75], \"criterion\":['gini','entropy'],'max_features':['sqrt'],'oob_score':[True],'random_state':[0, 3, 6, 9, 12, 15, 18, 21, 24, 27, 30, 33, 36, 39] }\n",
    "grid=GridSearchCV(estimator=rf,param_grid=param_grid1,cv=5,verbose=3)\n",
    "grid.fit(scaled_train_data,y_train)\n",
    "grid.best_params_"
   ]
  },
  {
   "cell_type": "code",
   "execution_count": 34,
   "metadata": {},
   "outputs": [
    {
     "name": "stdout",
     "output_type": "stream",
     "text": [
      "Accuracy_score is:-  0.8549848942598187 \n",
      "----------------------------------\n",
      " Confusion_matrix is:- \n",
      " [[260  11]\n",
      " [ 37  23]] \n",
      "-----------------------------------\n",
      " Classification_report is:-\n",
      "               precision    recall  f1-score   support\n",
      "\n",
      "           0       0.88      0.96      0.92       271\n",
      "           1       0.68      0.38      0.49        60\n",
      "\n",
      "    accuracy                           0.85       331\n",
      "   macro avg       0.78      0.67      0.70       331\n",
      "weighted avg       0.84      0.85      0.84       331\n",
      "\n"
     ]
    }
   ],
   "source": [
    "rf_cv = RandomForestClassifier(class_weight='balanced_subsample', criterion='entropy', max_depth= 9,max_features= 'sqrt',n_estimators=50,oob_score=True,random_state=0)\n",
    "y_pred_cv1=rf_cv.fit(scaled_train_data,y_train).predict(scaled_test_data)\n",
    "metrics(y_test , y_pred_cv1)"
   ]
  },
  {
   "cell_type": "code",
   "execution_count": 35,
   "metadata": {},
   "outputs": [
    {
     "name": "stdout",
     "output_type": "stream",
     "text": [
      "Model is performing:- 0.91 % better \n",
      " Without CV accuracy:- 84.59 % \n",
      " After CV accuracy:- 85.50 %\n"
     ]
    }
   ],
   "source": [
    "get_difference(y_test , y_pred1 , y_pred_cv1)"
   ]
  },
  {
   "cell_type": "markdown",
   "metadata": {},
   "source": [
    "3) XG Boost Classifier "
   ]
  },
  {
   "cell_type": "code",
   "execution_count": 43,
   "metadata": {},
   "outputs": [
    {
     "data": {
      "text/plain": [
       "{'max_depth': 5, 'n_estimators': 200, 'random_state': 0}"
      ]
     },
     "execution_count": 43,
     "metadata": {},
     "output_type": "execute_result"
    }
   ],
   "source": [
    "param_grid2={'max_depth': range(3, 11),\n",
    "                         'n_estimators': [50, 100, 130, 200],\n",
    "                         'random_state': [0, 50, 100, 250, 355, 500]}\n",
    "grid= GridSearchCV(XGBClassifier(objective='binary:logistic'),param_grid2, cv=5,n_jobs=-1)\n",
    "grid.fit(scaled_train_data,y_train)\n",
    "grid.best_params_"
   ]
  },
  {
   "cell_type": "code",
   "execution_count": 56,
   "metadata": {},
   "outputs": [
    {
     "name": "stdout",
     "output_type": "stream",
     "text": [
      "Accuracy_score is:-  0.8308157099697885 \n",
      "----------------------------------\n",
      " Confusion_matrix is:- \n",
      " [[262   9]\n",
      " [ 47  13]] \n",
      "-----------------------------------\n",
      " Classification_report is:-\n",
      "               precision    recall  f1-score   support\n",
      "\n",
      "           0       0.85      0.97      0.90       271\n",
      "           1       0.59      0.22      0.32        60\n",
      "\n",
      "    accuracy                           0.83       331\n",
      "   macro avg       0.72      0.59      0.61       331\n",
      "weighted avg       0.80      0.83      0.80       331\n",
      "\n"
     ]
    }
   ],
   "source": [
    "xgb_new=XGBClassifier(base_score=0.5, booster='gbtree', colsample_bylevel=1,\n",
    "              colsample_bynode=1, colsample_bytree=1, gamma=0,\n",
    "              learning_rate=0.1, max_delta_step=0, max_depth=3,\n",
    "              min_child_weight=1, n_estimators=50, n_jobs=-1,\n",
    "              nthread=None, objective='binary:logistic', random_state=0,\n",
    "              reg_alpha=0, reg_lambda=1, scale_pos_weight=1, seed=None,\n",
    "              silent=None, subsample=1, verbosity=1,missing=np.nan)\n",
    "\n",
    "pred_y_xgb_new = xgb_new.fit(scaled_train_data,y_train).predict(scaled_test_data)\n",
    "metrics(y_test , pred_y_xgb_new)\n"
   ]
  },
  {
   "cell_type": "code",
   "execution_count": 57,
   "metadata": {},
   "outputs": [
    {
     "name": "stdout",
     "output_type": "stream",
     "text": [
      "Model is performing:- 1.81 % better \n",
      " Without CV accuracy:- 81.27 % \n",
      " After CV accuracy:- 83.08 %\n"
     ]
    }
   ],
   "source": [
    "get_difference(y_test , y_pred2 , pred_y_xgb_new)"
   ]
  }
 ],
 "metadata": {
  "kernelspec": {
   "display_name": "Python 3 (ipykernel)",
   "language": "python",
   "name": "python3"
  },
  "language_info": {
   "codemirror_mode": {
    "name": "ipython",
    "version": 3
   },
   "file_extension": ".py",
   "mimetype": "text/x-python",
   "name": "python",
   "nbconvert_exporter": "python",
   "pygments_lexer": "ipython3",
   "version": "3.11.5"
  }
 },
 "nbformat": 4,
 "nbformat_minor": 2
}
